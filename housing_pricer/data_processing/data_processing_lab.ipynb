{
 "cells": [
  {
   "cell_type": "code",
   "execution_count": 1,
   "metadata": {},
   "outputs": [
    {
     "name": "stderr",
     "output_type": "stream",
     "text": [
      "Processing scraped JSON content to dataframe...: 968638it [00:32, 30098.59it/s]\n"
     ]
    }
   ],
   "source": [
    "from housing_pricer.scraping.utilities.data_manager import DataManager\n",
    "from housing_pricer.data_processing.data_processing_utils import format_json_to_dataframe\n",
    "import pandas as pd\n",
    "import plotly.express as px\n",
    "import numpy as np\n",
    "import matplotlib.pyplot as plt\n",
    "import xgboost as xgb\n",
    "import os\n",
    "\n",
    "def lookup_raw_listing(data_manager: DataManager, listing_id: str) -> dict:\n",
    "    for entry in data_manager.load_data():\n",
    "        if entry[\"id\"] == listing_id:\n",
    "            return entry\n",
    "    raise RuntimeError(\"Missing entry\")\n",
    "\n",
    "pd.set_option('display.max_columns', None)\n",
    "RAW_DATA_STORAGE = \"../scraping/data_storage\"\n",
    "LISTINGS_DF_PATH = \"listings_dataframe.pickle\"\n",
    "if os.path.exists(LISTINGS_DF_PATH):\n",
    "    listings = pd.read_pickle(LISTINGS_DF_PATH)\n",
    "else:\n",
    "    data = DataManager(base_dir=RAW_DATA_STORAGE, data_filename=\"scraped_data\").load_data()\n",
    "    listings = format_json_to_dataframe(data)\n",
    "    listings.to_pickle(LISTINGS_DF_PATH)"
   ]
  }
 ],
 "metadata": {
  "kernelspec": {
   "display_name": ".venv",
   "language": "python",
   "name": "python3"
  },
  "language_info": {
   "codemirror_mode": {
    "name": "ipython",
    "version": 3
   },
   "file_extension": ".py",
   "mimetype": "text/x-python",
   "name": "python",
   "nbconvert_exporter": "python",
   "pygments_lexer": "ipython3",
   "version": "3.11.1"
  },
  "orig_nbformat": 4,
  "vscode": {
   "interpreter": {
    "hash": "e33bb7b2cc010271644b84a13393be6366e525871ad6044d36d413a1c22c2e2a"
   }
  }
 },
 "nbformat": 4,
 "nbformat_minor": 2
}
