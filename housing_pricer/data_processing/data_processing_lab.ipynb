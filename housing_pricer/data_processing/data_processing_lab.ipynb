{
 "cells": [
  {
   "cell_type": "code",
   "execution_count": 2,
   "metadata": {},
   "outputs": [
    {
     "name": "stderr",
     "output_type": "stream",
     "text": [
      "Processing scraped JSON content to dataframe...: 25995it [00:01, 23170.58it/s]\n"
     ]
    }
   ],
   "source": [
    "from housing_pricer.scraping.sdk.data_manager import DataManager\n",
    "from housing_pricer.data_processing.data_processing_utils import format_json_to_dataframe\n",
    "import pandas as pd\n",
    "\n",
    "pd.set_option('display.max_columns', None)\n",
    "DATA_STORAGE = \"../scraping/data_storage\"\n",
    "\n",
    "\n",
    "listings = format_json_to_dataframe(DataManager(DATA_STORAGE).load_data())\n",
    "listings"
   ]
  }
 ],
 "metadata": {
  "kernelspec": {
   "display_name": ".venv",
   "language": "python",
   "name": "python3"
  },
  "language_info": {
   "codemirror_mode": {
    "name": "ipython",
    "version": 3
   },
   "file_extension": ".py",
   "mimetype": "text/x-python",
   "name": "python",
   "nbconvert_exporter": "python",
   "pygments_lexer": "ipython3",
   "version": "3.10.10"
  },
  "orig_nbformat": 4,
  "vscode": {
   "interpreter": {
    "hash": "e33bb7b2cc010271644b84a13393be6366e525871ad6044d36d413a1c22c2e2a"
   }
  }
 },
 "nbformat": 4,
 "nbformat_minor": 2
}
