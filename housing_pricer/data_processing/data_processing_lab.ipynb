{
 "cells": [
  {
   "cell_type": "code",
   "execution_count": 1,
   "metadata": {},
   "outputs": [],
   "source": [
    "from housing_pricer.scraping.sdk.data_manager import DataManager\n",
    "from housing_pricer.data_processing.data_processing_utils import format_json_to_dataframe, get_nested_dict_value\n",
    "import pandas as pd\n",
    "\n",
    "pd.set_option('display.max_columns', None)\n",
    "DATA_STORAGE = \"../scraping/data_storage\"\n",
    "\n",
    "def lookup_raw_listing(data_manager: DataManager, listing_id: str) -> dict:\n",
    "    for entry in data_manager.load_data():\n",
    "        if entry[\"id\"] == listing_id:\n",
    "            return entry\n",
    "    raise RuntimeError(\"Missing entry\")"
   ]
  },
  {
   "cell_type": "code",
   "execution_count": 2,
   "metadata": {},
   "outputs": [
    {
     "name": "stderr",
     "output_type": "stream",
     "text": [
      "Processing scraped JSON content to dataframe...: 319638it [00:14, 21616.89it/s]\n"
     ]
    },
    {
     "data": {
      "text/html": [
       "<div>\n",
       "<style scoped>\n",
       "    .dataframe tbody tr th:only-of-type {\n",
       "        vertical-align: middle;\n",
       "    }\n",
       "\n",
       "    .dataframe tbody tr th {\n",
       "        vertical-align: top;\n",
       "    }\n",
       "\n",
       "    .dataframe thead th {\n",
       "        text-align: right;\n",
       "    }\n",
       "</style>\n",
       "<table border=\"1\" class=\"dataframe\">\n",
       "  <thead>\n",
       "    <tr style=\"text-align: right;\">\n",
       "      <th></th>\n",
       "      <th>url_listing_type</th>\n",
       "      <th>url_listing_id</th>\n",
       "      <th>booli_id</th>\n",
       "      <th>sold_date</th>\n",
       "      <th>days_listed</th>\n",
       "      <th>residence_type</th>\n",
       "      <th>address</th>\n",
       "      <th>tenure_form</th>\n",
       "      <th>apartment_number</th>\n",
       "      <th>urban_area</th>\n",
       "      <th>municipality</th>\n",
       "      <th>construction_year</th>\n",
       "      <th>list_price</th>\n",
       "      <th>sold_price</th>\n",
       "      <th>sold_price_type</th>\n",
       "      <th>first_price</th>\n",
       "      <th>booli_valuation</th>\n",
       "      <th>booli_valuation_lb</th>\n",
       "      <th>booli_valuation_ub</th>\n",
       "      <th>monthly_payment</th>\n",
       "      <th>rent</th>\n",
       "      <th>operating_cost</th>\n",
       "      <th>energy_class</th>\n",
       "      <th>floor</th>\n",
       "      <th>building_floors</th>\n",
       "      <th>latitude</th>\n",
       "      <th>longitude</th>\n",
       "      <th>has_solar_panels</th>\n",
       "      <th>agency_id</th>\n",
       "      <th>agent_id</th>\n",
       "      <th>booli_ids_of_previous_sales</th>\n",
       "      <th>n_previous_sales</th>\n",
       "    </tr>\n",
       "  </thead>\n",
       "  <tbody>\n",
       "    <tr>\n",
       "      <th>0</th>\n",
       "      <td>bostad</td>\n",
       "      <td>2556516</td>\n",
       "      <td>5153109</td>\n",
       "      <td>2023-12-05</td>\n",
       "      <td>25.0</td>\n",
       "      <td>Villa</td>\n",
       "      <td>Västerbyvägen 9</td>\n",
       "      <td>None</td>\n",
       "      <td>None</td>\n",
       "      <td>Norsholm</td>\n",
       "      <td>Norrköping</td>\n",
       "      <td>1979.0</td>\n",
       "      <td>3325000.0</td>\n",
       "      <td>3250000.0</td>\n",
       "      <td>Slutpris</td>\n",
       "      <td>3 325 000</td>\n",
       "      <td>NaN</td>\n",
       "      <td>NaN</td>\n",
       "      <td>NaN</td>\n",
       "      <td>None</td>\n",
       "      <td>NaN</td>\n",
       "      <td>4398.0</td>\n",
       "      <td>D</td>\n",
       "      <td>None</td>\n",
       "      <td>NaN</td>\n",
       "      <td>58.505988</td>\n",
       "      <td>15.976788</td>\n",
       "      <td>None</td>\n",
       "      <td>26</td>\n",
       "      <td>11016</td>\n",
       "      <td>[5153109]</td>\n",
       "      <td>1</td>\n",
       "    </tr>\n",
       "    <tr>\n",
       "      <th>1</th>\n",
       "      <td>bostad</td>\n",
       "      <td>1890105</td>\n",
       "      <td>5147734</td>\n",
       "      <td>2023-12-05</td>\n",
       "      <td>32.0</td>\n",
       "      <td>Villa</td>\n",
       "      <td>Sliparevägen 3</td>\n",
       "      <td>None</td>\n",
       "      <td>None</td>\n",
       "      <td>Rejmyre</td>\n",
       "      <td>Finspång</td>\n",
       "      <td>1978.0</td>\n",
       "      <td>1495000.0</td>\n",
       "      <td>1495000.0</td>\n",
       "      <td>Slutpris</td>\n",
       "      <td>1 495 000</td>\n",
       "      <td>NaN</td>\n",
       "      <td>NaN</td>\n",
       "      <td>NaN</td>\n",
       "      <td>None</td>\n",
       "      <td>NaN</td>\n",
       "      <td>4102.0</td>\n",
       "      <td>C</td>\n",
       "      <td>None</td>\n",
       "      <td>NaN</td>\n",
       "      <td>58.826413</td>\n",
       "      <td>15.938500</td>\n",
       "      <td>None</td>\n",
       "      <td>962</td>\n",
       "      <td>9543</td>\n",
       "      <td>[5147734, -9035770]</td>\n",
       "      <td>2</td>\n",
       "    </tr>\n",
       "    <tr>\n",
       "      <th>2</th>\n",
       "      <td>bostad</td>\n",
       "      <td>1706785</td>\n",
       "      <td>5168064</td>\n",
       "      <td>2023-12-05</td>\n",
       "      <td>8.0</td>\n",
       "      <td>Villa</td>\n",
       "      <td>Kronoparksvägen 22</td>\n",
       "      <td>None</td>\n",
       "      <td>None</td>\n",
       "      <td>Ivetofta</td>\n",
       "      <td>Bromölla</td>\n",
       "      <td>1980.0</td>\n",
       "      <td>2095000.0</td>\n",
       "      <td>2400000.0</td>\n",
       "      <td>Slutpris</td>\n",
       "      <td>2 095 000</td>\n",
       "      <td>NaN</td>\n",
       "      <td>NaN</td>\n",
       "      <td>NaN</td>\n",
       "      <td>None</td>\n",
       "      <td>NaN</td>\n",
       "      <td>2648.0</td>\n",
       "      <td>C</td>\n",
       "      <td>None</td>\n",
       "      <td>NaN</td>\n",
       "      <td>56.091915</td>\n",
       "      <td>14.466163</td>\n",
       "      <td>None</td>\n",
       "      <td>20</td>\n",
       "      <td>11931</td>\n",
       "      <td>[5168064, 984971, 350836]</td>\n",
       "      <td>3</td>\n",
       "    </tr>\n",
       "    <tr>\n",
       "      <th>3</th>\n",
       "      <td>bostad</td>\n",
       "      <td>3997519</td>\n",
       "      <td>5078126</td>\n",
       "      <td>2023-12-05</td>\n",
       "      <td>102.0</td>\n",
       "      <td>Lägenhet</td>\n",
       "      <td>Borgarfjordsgatan 21B</td>\n",
       "      <td>None</td>\n",
       "      <td>1303</td>\n",
       "      <td>Kista</td>\n",
       "      <td>Stockholm</td>\n",
       "      <td>2015.0</td>\n",
       "      <td>2495000.0</td>\n",
       "      <td>2450000.0</td>\n",
       "      <td>Slutpris</td>\n",
       "      <td>2 595 000</td>\n",
       "      <td>NaN</td>\n",
       "      <td>NaN</td>\n",
       "      <td>NaN</td>\n",
       "      <td>None</td>\n",
       "      <td>4274.0</td>\n",
       "      <td>NaN</td>\n",
       "      <td>D</td>\n",
       "      <td>3</td>\n",
       "      <td>NaN</td>\n",
       "      <td>59.404946</td>\n",
       "      <td>17.941505</td>\n",
       "      <td>None</td>\n",
       "      <td>16</td>\n",
       "      <td>6529</td>\n",
       "      <td>[5078126]</td>\n",
       "      <td>1</td>\n",
       "    </tr>\n",
       "    <tr>\n",
       "      <th>4</th>\n",
       "      <td>annons</td>\n",
       "      <td>5119460</td>\n",
       "      <td>5119460</td>\n",
       "      <td>2023-12-05</td>\n",
       "      <td>39.0</td>\n",
       "      <td>Lägenhet</td>\n",
       "      <td>Rålambsvägen 48</td>\n",
       "      <td>None</td>\n",
       "      <td>None</td>\n",
       "      <td>Fredhäll</td>\n",
       "      <td>Stockholm</td>\n",
       "      <td>1931.0</td>\n",
       "      <td>3400000.0</td>\n",
       "      <td>3400000.0</td>\n",
       "      <td>Slutpris</td>\n",
       "      <td>3 195 000</td>\n",
       "      <td>NaN</td>\n",
       "      <td>NaN</td>\n",
       "      <td>NaN</td>\n",
       "      <td>None</td>\n",
       "      <td>2213.0</td>\n",
       "      <td>855.0</td>\n",
       "      <td>None</td>\n",
       "      <td>3</td>\n",
       "      <td>NaN</td>\n",
       "      <td>59.330127</td>\n",
       "      <td>18.005056</td>\n",
       "      <td>None</td>\n",
       "      <td>34</td>\n",
       "      <td>9162</td>\n",
       "      <td>[5119460]</td>\n",
       "      <td>1</td>\n",
       "    </tr>\n",
       "    <tr>\n",
       "      <th>...</th>\n",
       "      <td>...</td>\n",
       "      <td>...</td>\n",
       "      <td>...</td>\n",
       "      <td>...</td>\n",
       "      <td>...</td>\n",
       "      <td>...</td>\n",
       "      <td>...</td>\n",
       "      <td>...</td>\n",
       "      <td>...</td>\n",
       "      <td>...</td>\n",
       "      <td>...</td>\n",
       "      <td>...</td>\n",
       "      <td>...</td>\n",
       "      <td>...</td>\n",
       "      <td>...</td>\n",
       "      <td>...</td>\n",
       "      <td>...</td>\n",
       "      <td>...</td>\n",
       "      <td>...</td>\n",
       "      <td>...</td>\n",
       "      <td>...</td>\n",
       "      <td>...</td>\n",
       "      <td>...</td>\n",
       "      <td>...</td>\n",
       "      <td>...</td>\n",
       "      <td>...</td>\n",
       "      <td>...</td>\n",
       "      <td>...</td>\n",
       "      <td>...</td>\n",
       "      <td>...</td>\n",
       "      <td>...</td>\n",
       "      <td>...</td>\n",
       "    </tr>\n",
       "    <tr>\n",
       "      <th>319633</th>\n",
       "      <td>bostad</td>\n",
       "      <td>1514277</td>\n",
       "      <td>1514277</td>\n",
       "      <td>None</td>\n",
       "      <td>NaN</td>\n",
       "      <td>Villa</td>\n",
       "      <td>Bondegatan 10</td>\n",
       "      <td>None</td>\n",
       "      <td>None</td>\n",
       "      <td>Halmstads kommun</td>\n",
       "      <td>None</td>\n",
       "      <td>1944.0</td>\n",
       "      <td>NaN</td>\n",
       "      <td>NaN</td>\n",
       "      <td>None</td>\n",
       "      <td>None</td>\n",
       "      <td>4640000.0</td>\n",
       "      <td>4080000.0</td>\n",
       "      <td>5200000.0</td>\n",
       "      <td>None</td>\n",
       "      <td>NaN</td>\n",
       "      <td>NaN</td>\n",
       "      <td>None</td>\n",
       "      <td>None</td>\n",
       "      <td>NaN</td>\n",
       "      <td>56.675366</td>\n",
       "      <td>12.876034</td>\n",
       "      <td>None</td>\n",
       "      <td>None</td>\n",
       "      <td>None</td>\n",
       "      <td>[4423598, 305002]</td>\n",
       "      <td>2</td>\n",
       "    </tr>\n",
       "    <tr>\n",
       "      <th>319634</th>\n",
       "      <td>bostad</td>\n",
       "      <td>2792288</td>\n",
       "      <td>2792288</td>\n",
       "      <td>None</td>\n",
       "      <td>NaN</td>\n",
       "      <td>Villa</td>\n",
       "      <td>Jonstorpsvägen 156</td>\n",
       "      <td>None</td>\n",
       "      <td>None</td>\n",
       "      <td>Helsingborgs kommun</td>\n",
       "      <td>None</td>\n",
       "      <td>1973.0</td>\n",
       "      <td>NaN</td>\n",
       "      <td>NaN</td>\n",
       "      <td>None</td>\n",
       "      <td>None</td>\n",
       "      <td>4020000.0</td>\n",
       "      <td>3650000.0</td>\n",
       "      <td>4390000.0</td>\n",
       "      <td>None</td>\n",
       "      <td>NaN</td>\n",
       "      <td>3561.0</td>\n",
       "      <td>F</td>\n",
       "      <td>None</td>\n",
       "      <td>NaN</td>\n",
       "      <td>56.106491</td>\n",
       "      <td>12.693483</td>\n",
       "      <td>None</td>\n",
       "      <td>None</td>\n",
       "      <td>None</td>\n",
       "      <td>[4516166]</td>\n",
       "      <td>1</td>\n",
       "    </tr>\n",
       "    <tr>\n",
       "      <th>319635</th>\n",
       "      <td>bostad</td>\n",
       "      <td>2638853</td>\n",
       "      <td>2638853</td>\n",
       "      <td>None</td>\n",
       "      <td>NaN</td>\n",
       "      <td>Villa</td>\n",
       "      <td>Munkvägen 11</td>\n",
       "      <td>None</td>\n",
       "      <td>None</td>\n",
       "      <td>Lunds kommun</td>\n",
       "      <td>None</td>\n",
       "      <td>1960.0</td>\n",
       "      <td>NaN</td>\n",
       "      <td>NaN</td>\n",
       "      <td>None</td>\n",
       "      <td>None</td>\n",
       "      <td>3130000.0</td>\n",
       "      <td>2860000.0</td>\n",
       "      <td>3400000.0</td>\n",
       "      <td>None</td>\n",
       "      <td>NaN</td>\n",
       "      <td>2210.0</td>\n",
       "      <td>G</td>\n",
       "      <td>None</td>\n",
       "      <td>NaN</td>\n",
       "      <td>55.669879</td>\n",
       "      <td>13.346727</td>\n",
       "      <td>None</td>\n",
       "      <td>None</td>\n",
       "      <td>None</td>\n",
       "      <td>[4489344]</td>\n",
       "      <td>1</td>\n",
       "    </tr>\n",
       "    <tr>\n",
       "      <th>319636</th>\n",
       "      <td>bostad</td>\n",
       "      <td>4145472</td>\n",
       "      <td>4145472</td>\n",
       "      <td>None</td>\n",
       "      <td>NaN</td>\n",
       "      <td>Villa</td>\n",
       "      <td>Eggelstadsvägen 97-5</td>\n",
       "      <td>None</td>\n",
       "      <td>None</td>\n",
       "      <td>Sjöbo kommun</td>\n",
       "      <td>None</td>\n",
       "      <td>1929.0</td>\n",
       "      <td>NaN</td>\n",
       "      <td>NaN</td>\n",
       "      <td>None</td>\n",
       "      <td>None</td>\n",
       "      <td>990000.0</td>\n",
       "      <td>821000.0</td>\n",
       "      <td>1160000.0</td>\n",
       "      <td>None</td>\n",
       "      <td>NaN</td>\n",
       "      <td>3590.0</td>\n",
       "      <td>None</td>\n",
       "      <td>None</td>\n",
       "      <td>NaN</td>\n",
       "      <td>55.642213</td>\n",
       "      <td>13.815767</td>\n",
       "      <td>None</td>\n",
       "      <td>None</td>\n",
       "      <td>None</td>\n",
       "      <td>[4530308, -9959863, 3788747, -9796413]</td>\n",
       "      <td>4</td>\n",
       "    </tr>\n",
       "    <tr>\n",
       "      <th>319637</th>\n",
       "      <td>bostad</td>\n",
       "      <td>2721979</td>\n",
       "      <td>2721979</td>\n",
       "      <td>None</td>\n",
       "      <td>NaN</td>\n",
       "      <td>Villa</td>\n",
       "      <td>Lövsångaregatan 25</td>\n",
       "      <td>None</td>\n",
       "      <td>None</td>\n",
       "      <td>Vellinge kommun</td>\n",
       "      <td>None</td>\n",
       "      <td>1973.0</td>\n",
       "      <td>NaN</td>\n",
       "      <td>NaN</td>\n",
       "      <td>None</td>\n",
       "      <td>None</td>\n",
       "      <td>4790000.0</td>\n",
       "      <td>4320000.0</td>\n",
       "      <td>5250000.0</td>\n",
       "      <td>None</td>\n",
       "      <td>NaN</td>\n",
       "      <td>2701.0</td>\n",
       "      <td>None</td>\n",
       "      <td>None</td>\n",
       "      <td>NaN</td>\n",
       "      <td>55.478627</td>\n",
       "      <td>13.031926</td>\n",
       "      <td>None</td>\n",
       "      <td>None</td>\n",
       "      <td>None</td>\n",
       "      <td>[4463140]</td>\n",
       "      <td>1</td>\n",
       "    </tr>\n",
       "  </tbody>\n",
       "</table>\n",
       "<p>319638 rows × 32 columns</p>\n",
       "</div>"
      ],
      "text/plain": [
       "       url_listing_type  url_listing_id booli_id   sold_date  days_listed  \\\n",
       "0                bostad         2556516  5153109  2023-12-05         25.0   \n",
       "1                bostad         1890105  5147734  2023-12-05         32.0   \n",
       "2                bostad         1706785  5168064  2023-12-05          8.0   \n",
       "3                bostad         3997519  5078126  2023-12-05        102.0   \n",
       "4                annons         5119460  5119460  2023-12-05         39.0   \n",
       "...                 ...             ...      ...         ...          ...   \n",
       "319633           bostad         1514277  1514277        None          NaN   \n",
       "319634           bostad         2792288  2792288        None          NaN   \n",
       "319635           bostad         2638853  2638853        None          NaN   \n",
       "319636           bostad         4145472  4145472        None          NaN   \n",
       "319637           bostad         2721979  2721979        None          NaN   \n",
       "\n",
       "       residence_type                address tenure_form apartment_number  \\\n",
       "0               Villa        Västerbyvägen 9        None             None   \n",
       "1               Villa         Sliparevägen 3        None             None   \n",
       "2               Villa     Kronoparksvägen 22        None             None   \n",
       "3            Lägenhet  Borgarfjordsgatan 21B        None             1303   \n",
       "4            Lägenhet        Rålambsvägen 48        None             None   \n",
       "...               ...                    ...         ...              ...   \n",
       "319633          Villa          Bondegatan 10        None             None   \n",
       "319634          Villa     Jonstorpsvägen 156        None             None   \n",
       "319635          Villa           Munkvägen 11        None             None   \n",
       "319636          Villa   Eggelstadsvägen 97-5        None             None   \n",
       "319637          Villa     Lövsångaregatan 25        None             None   \n",
       "\n",
       "                 urban_area municipality  construction_year  list_price  \\\n",
       "0                  Norsholm   Norrköping             1979.0   3325000.0   \n",
       "1                   Rejmyre     Finspång             1978.0   1495000.0   \n",
       "2                  Ivetofta     Bromölla             1980.0   2095000.0   \n",
       "3                     Kista    Stockholm             2015.0   2495000.0   \n",
       "4                  Fredhäll    Stockholm             1931.0   3400000.0   \n",
       "...                     ...          ...                ...         ...   \n",
       "319633     Halmstads kommun         None             1944.0         NaN   \n",
       "319634  Helsingborgs kommun         None             1973.0         NaN   \n",
       "319635         Lunds kommun         None             1960.0         NaN   \n",
       "319636         Sjöbo kommun         None             1929.0         NaN   \n",
       "319637      Vellinge kommun         None             1973.0         NaN   \n",
       "\n",
       "        sold_price sold_price_type first_price  booli_valuation  \\\n",
       "0        3250000.0        Slutpris   3 325 000              NaN   \n",
       "1        1495000.0        Slutpris   1 495 000              NaN   \n",
       "2        2400000.0        Slutpris   2 095 000              NaN   \n",
       "3        2450000.0        Slutpris   2 595 000              NaN   \n",
       "4        3400000.0        Slutpris   3 195 000              NaN   \n",
       "...            ...             ...         ...              ...   \n",
       "319633         NaN            None        None        4640000.0   \n",
       "319634         NaN            None        None        4020000.0   \n",
       "319635         NaN            None        None        3130000.0   \n",
       "319636         NaN            None        None         990000.0   \n",
       "319637         NaN            None        None        4790000.0   \n",
       "\n",
       "        booli_valuation_lb  booli_valuation_ub monthly_payment    rent  \\\n",
       "0                      NaN                 NaN            None     NaN   \n",
       "1                      NaN                 NaN            None     NaN   \n",
       "2                      NaN                 NaN            None     NaN   \n",
       "3                      NaN                 NaN            None  4274.0   \n",
       "4                      NaN                 NaN            None  2213.0   \n",
       "...                    ...                 ...             ...     ...   \n",
       "319633           4080000.0           5200000.0            None     NaN   \n",
       "319634           3650000.0           4390000.0            None     NaN   \n",
       "319635           2860000.0           3400000.0            None     NaN   \n",
       "319636            821000.0           1160000.0            None     NaN   \n",
       "319637           4320000.0           5250000.0            None     NaN   \n",
       "\n",
       "        operating_cost energy_class floor  building_floors   latitude  \\\n",
       "0               4398.0            D  None              NaN  58.505988   \n",
       "1               4102.0            C  None              NaN  58.826413   \n",
       "2               2648.0            C  None              NaN  56.091915   \n",
       "3                  NaN            D     3              NaN  59.404946   \n",
       "4                855.0         None     3              NaN  59.330127   \n",
       "...                ...          ...   ...              ...        ...   \n",
       "319633             NaN         None  None              NaN  56.675366   \n",
       "319634          3561.0            F  None              NaN  56.106491   \n",
       "319635          2210.0            G  None              NaN  55.669879   \n",
       "319636          3590.0         None  None              NaN  55.642213   \n",
       "319637          2701.0         None  None              NaN  55.478627   \n",
       "\n",
       "        longitude has_solar_panels agency_id agent_id  \\\n",
       "0       15.976788             None        26    11016   \n",
       "1       15.938500             None       962     9543   \n",
       "2       14.466163             None        20    11931   \n",
       "3       17.941505             None        16     6529   \n",
       "4       18.005056             None        34     9162   \n",
       "...           ...              ...       ...      ...   \n",
       "319633  12.876034             None      None     None   \n",
       "319634  12.693483             None      None     None   \n",
       "319635  13.346727             None      None     None   \n",
       "319636  13.815767             None      None     None   \n",
       "319637  13.031926             None      None     None   \n",
       "\n",
       "                   booli_ids_of_previous_sales  n_previous_sales  \n",
       "0                                    [5153109]                 1  \n",
       "1                          [5147734, -9035770]                 2  \n",
       "2                    [5168064, 984971, 350836]                 3  \n",
       "3                                    [5078126]                 1  \n",
       "4                                    [5119460]                 1  \n",
       "...                                        ...               ...  \n",
       "319633                       [4423598, 305002]                 2  \n",
       "319634                               [4516166]                 1  \n",
       "319635                               [4489344]                 1  \n",
       "319636  [4530308, -9959863, 3788747, -9796413]                 4  \n",
       "319637                               [4463140]                 1  \n",
       "\n",
       "[319638 rows x 32 columns]"
      ]
     },
     "execution_count": 2,
     "metadata": {},
     "output_type": "execute_result"
    }
   ],
   "source": [
    "listings = format_json_to_dataframe(DataManager(DATA_STORAGE).load_data())\n",
    "listings"
   ]
  },
  {
   "cell_type": "code",
   "execution_count": 4,
   "metadata": {},
   "outputs": [],
   "source": [
    "bostad = lookup_raw_listing(data_manager=DataManager(DATA_STORAGE), listing_id=\"bostad/2792288\")"
   ]
  },
  {
   "cell_type": "code",
   "execution_count": null,
   "metadata": {},
   "outputs": [
    {
     "data": {
      "application/vnd.plotly.v1+json": {
       "config": {
        "plotlyServerURL": "https://plot.ly"
       },
       "data": [
        {
         "hovertemplate": "x=%{x}<br>y=%{y}<extra></extra>",
         "legendgroup": "",
         "marker": {
          "color": "#636efa",
          "symbol": "circle"
         },
         "mode": "markers",
         "name": "",
         "orientation": "v",
         "showlegend": false,
         "type": "scatter",
         "x": [
          "2023-12-05",
          "2023-12-04",
          "2023-12-03",
          "2023-12-02",
          "2023-12-01",
          "2023-11-30",
          "2023-11-29",
          "2023-11-28",
          "2023-11-27",
          "2023-11-26",
          "2023-11-25",
          "2023-11-24",
          "2023-11-23",
          "2023-11-22",
          "2023-11-21",
          "2023-11-20",
          "2023-11-19",
          "2023-11-18",
          "2023-11-17",
          "2023-11-16",
          "2023-11-15",
          "2023-11-14",
          "2023-11-13",
          "2023-11-12",
          "2023-11-11",
          "2023-11-10",
          "2023-11-09",
          "2023-11-08",
          "2023-11-07",
          "2023-11-06",
          "2023-11-05",
          "2023-11-04",
          "2023-11-03",
          "2023-11-02",
          "2023-11-01",
          "2023-10-31",
          "2023-10-30",
          "2023-10-29",
          "2023-10-28",
          "2023-10-27",
          "2023-10-26",
          "2023-10-25",
          "2023-10-24",
          "2023-10-23",
          "2023-10-22",
          "2023-10-21",
          "2023-10-20",
          "2023-10-19",
          "2023-10-18",
          "2023-10-17",
          "2023-10-16",
          "2023-10-15",
          "2023-10-14",
          "2023-10-13",
          "2023-10-12",
          "2023-10-11",
          "2023-10-10",
          "2023-10-09",
          "2023-10-08",
          "2023-10-07",
          "2023-10-06",
          "2023-10-03",
          "2023-10-05",
          "2023-10-04",
          "2023-10-02",
          "2023-10-01",
          "2023-09-30",
          "2023-09-29",
          "2023-09-28",
          "2023-09-27",
          "2023-09-26",
          "2023-09-25",
          "2023-09-24",
          "2023-12-06",
          "2023-09-23",
          "2023-09-22",
          "2023-09-21",
          "2023-09-20",
          "2023-09-19",
          "2023-09-18",
          "2023-09-17",
          "2023-09-16",
          "2023-09-15",
          "2023-09-14",
          "2023-09-13",
          "2023-09-12",
          "2023-09-11",
          "2023-09-10",
          "2023-09-09",
          "2023-09-08",
          "2023-09-07",
          "2023-09-06",
          "2023-09-05",
          "2023-09-04",
          "2023-09-03",
          "2023-09-02",
          "2023-09-01",
          "2023-12-07",
          "2023-08-31",
          "2023-08-30",
          "2023-08-29",
          "2023-08-28",
          "2023-08-27",
          "2023-08-26",
          "2023-08-25",
          "2023-08-24",
          "2023-08-23",
          "2023-08-22",
          "2023-08-21",
          "2023-08-20",
          "2023-08-19",
          "2023-08-18",
          "2023-08-17",
          "2023-08-16",
          "2023-08-15",
          "2023-08-14",
          "2023-08-13",
          "2023-08-12",
          "2023-08-11",
          "2023-08-10",
          "2023-08-09",
          "2023-08-08",
          "2023-08-07",
          "2023-08-06",
          "2023-08-05",
          "2023-08-04",
          "2023-08-03",
          "2023-08-02",
          "2023-08-01",
          "2023-07-31",
          "2023-07-30",
          "2023-07-29",
          "2023-07-28",
          "2023-07-27",
          "2023-07-26",
          "2023-07-25",
          "2023-07-24",
          "2023-07-23",
          "2023-07-22",
          "2023-07-21",
          "2023-07-20",
          "2023-07-19",
          "2023-07-18",
          "2023-07-17",
          "2023-07-16",
          "2023-07-15",
          "2023-07-14",
          "2023-07-13",
          "2023-07-12",
          "2023-07-11",
          "2023-07-10",
          "2023-07-09",
          "2023-07-08",
          "2023-07-07",
          "2023-07-06",
          "2023-07-05",
          "2023-07-04",
          "2023-07-03",
          "2023-07-02",
          "2023-07-01",
          "2023-06-30",
          "2023-06-29",
          "2023-06-28",
          "2023-06-27",
          "2023-06-26",
          "2023-06-25",
          "2023-06-24",
          "2023-06-23",
          "2023-06-22",
          "2023-06-20",
          "2023-06-19",
          "2023-06-18",
          "2023-06-17",
          "2023-06-16",
          "2023-06-15",
          "2023-06-14",
          "2023-06-13",
          "2023-06-12",
          "2023-06-04",
          "2023-06-03",
          "2023-06-02",
          "2023-06-09",
          "2023-05-02",
          "2023-05-26",
          "2023-06-01",
          "2023-05-01",
          "2023-04-30",
          "2023-04-29",
          "2023-06-05",
          "2023-04-28",
          "2023-04-27",
          "2023-04-26",
          "2023-05-15",
          "2023-05-12",
          "2023-05-19",
          "2023-04-25",
          "2023-05-05",
          "2023-04-24",
          "2023-04-23",
          "2023-04-22",
          "2023-04-21",
          "2023-05-04",
          "2023-04-20",
          "2023-06-07",
          "2023-04-19",
          "2023-05-25",
          "2023-04-18",
          "2023-04-17",
          "2023-04-16",
          "2023-04-15",
          "2023-04-14",
          "2023-04-13",
          "2023-05-10",
          "2023-04-12",
          "2023-04-11",
          "2023-04-10",
          "2023-04-09",
          "2023-04-08",
          "2023-04-07",
          "2023-04-06",
          "2023-05-09",
          "2023-06-08",
          "2023-04-05",
          "2023-04-04",
          "2023-04-03",
          "2023-05-22",
          "2023-05-03",
          "2023-06-21",
          "2023-04-02",
          "2023-04-01",
          "2023-03-31",
          "2023-06-10",
          "2023-05-20",
          "2023-03-30",
          "2023-03-29",
          "2023-03-28",
          "2023-03-27",
          "2023-03-26",
          "2023-03-25",
          "2023-03-24",
          "2023-05-17",
          "2023-03-23",
          "2023-03-22",
          "2023-03-21",
          "2023-03-20",
          "2023-03-19",
          "2023-03-18",
          "2023-03-17",
          "2023-03-16",
          "2023-03-15",
          "2023-05-31",
          "2023-03-14",
          "2023-03-13",
          "2023-05-30",
          "2023-03-12",
          "2023-03-11",
          "2023-03-10",
          "2023-03-09",
          "2023-05-29",
          "2023-03-08",
          "2023-03-07",
          "2023-06-11",
          "2023-03-06",
          "2023-03-05",
          "2023-03-04",
          "2023-03-03",
          "2023-03-02",
          "2023-03-01",
          "2023-02-28",
          "2023-02-27",
          "2023-02-26",
          "2023-02-25",
          "2023-05-24",
          "2023-02-24",
          "2023-02-23",
          "2023-02-22",
          "2023-02-21",
          "2023-02-20",
          "2023-02-19",
          "2023-02-18",
          "2023-02-17",
          "2023-02-16",
          "2023-02-15",
          "2023-02-14",
          "2023-02-13",
          "2023-02-12",
          "2023-02-11",
          "2023-02-10",
          "2023-02-09",
          "2023-02-08",
          "2023-02-07",
          "2023-02-06",
          "2023-02-05",
          "2023-02-04",
          "2023-02-03",
          "2023-02-02",
          "2023-02-01",
          "2023-12-12",
          "2023-12-11",
          "2023-12-10",
          "2023-12-09",
          "2023-12-08",
          "2023-12-13",
          "2023-06-06",
          "2023-05-28",
          "2023-05-27",
          "2023-05-23",
          "2023-05-21",
          "2023-05-18",
          "2023-05-16",
          "2023-05-14",
          "2023-05-13",
          "2023-05-11",
          "2023-05-08",
          "2023-05-07",
          "2023-05-06",
          "2023-01-31",
          "2023-01-30",
          "2023-01-29",
          "2023-01-28",
          "2023-01-27",
          "2023-01-26",
          "2023-01-25",
          "2023-01-24",
          "2023-01-23",
          "2023-01-22",
          "2023-01-21",
          "2023-01-20",
          "2023-01-19",
          "2023-01-18",
          "2023-01-17",
          "2023-01-16",
          "2023-01-15",
          "2023-01-14",
          "2023-01-13",
          "2023-01-12",
          "2023-01-11",
          "2023-01-10",
          "2023-01-09",
          "2023-01-08",
          "2023-01-07",
          "2023-01-06",
          "2023-01-05",
          "2023-01-04",
          "2023-01-03",
          "2023-01-02",
          "2023-01-01",
          "2022-12-31",
          "2022-12-30",
          "2022-12-29",
          "2022-12-28",
          "2022-12-27",
          "2022-12-26",
          "2022-12-25",
          "2022-12-24",
          "2022-12-23",
          "2022-12-22",
          "2022-12-21",
          "2022-12-20",
          "2022-12-19",
          "2022-12-18",
          "2022-12-17",
          "2022-12-16",
          "2022-12-15",
          "2023-12-14"
         ],
         "xaxis": "x",
         "y": [
          1957,
          1749,
          1627,
          1544,
          1481,
          1397,
          1310,
          1305,
          1303,
          1278,
          1272,
          1072,
          1045,
          1012,
          1006,
          994,
          993,
          992,
          979,
          974,
          960,
          937,
          935,
          925,
          919,
          906,
          899,
          896,
          890,
          887,
          886,
          869,
          863,
          858,
          856,
          852,
          852,
          850,
          840,
          804,
          793,
          792,
          792,
          790,
          786,
          777,
          777,
          763,
          761,
          752,
          742,
          741,
          734,
          733,
          732,
          727,
          726,
          724,
          723,
          717,
          707,
          706,
          706,
          700,
          698,
          695,
          693,
          693,
          690,
          677,
          669,
          667,
          655,
          652,
          649,
          647,
          647,
          645,
          644,
          641,
          641,
          638,
          635,
          634,
          632,
          626,
          624,
          623,
          620,
          619,
          615,
          612,
          608,
          599,
          595,
          595,
          590,
          588,
          586,
          585,
          580,
          579,
          578,
          578,
          576,
          575,
          572,
          571,
          570,
          566,
          566,
          564,
          562,
          560,
          558,
          555,
          551,
          549,
          548,
          547,
          542,
          542,
          542,
          542,
          538,
          538,
          536,
          535,
          534,
          533,
          533,
          533,
          530,
          529,
          520,
          519,
          518,
          517,
          513,
          512,
          506,
          505,
          504,
          504,
          503,
          502,
          502,
          502,
          500,
          499,
          498,
          496,
          496,
          494,
          494,
          494,
          490,
          488,
          487,
          483,
          483,
          479,
          477,
          477,
          475,
          475,
          473,
          473,
          473,
          466,
          466,
          463,
          459,
          459,
          457,
          457,
          453,
          452,
          452,
          450,
          448,
          445,
          445,
          445,
          443,
          443,
          441,
          441,
          440,
          440,
          439,
          438,
          435,
          434,
          430,
          430,
          429,
          428,
          426,
          418,
          418,
          416,
          416,
          413,
          411,
          410,
          407,
          407,
          406,
          403,
          402,
          401,
          401,
          400,
          397,
          395,
          392,
          392,
          391,
          388,
          386,
          383,
          383,
          382,
          382,
          380,
          379,
          373,
          373,
          366,
          366,
          365,
          365,
          358,
          353,
          348,
          348,
          336,
          327,
          313,
          307,
          301,
          298,
          296,
          292,
          284,
          281,
          279,
          273,
          269,
          266,
          256,
          251,
          245,
          243,
          237,
          237,
          234,
          234,
          225,
          224,
          222,
          214,
          213,
          212,
          208,
          206,
          205,
          204,
          201,
          201,
          201,
          198,
          197,
          189,
          186,
          182,
          181,
          179,
          178,
          177,
          177,
          177,
          177,
          176,
          176,
          174,
          174,
          173,
          173,
          173,
          169,
          167,
          166,
          165,
          165,
          164,
          163,
          162,
          162,
          159,
          159,
          159,
          155,
          154,
          154,
          154,
          153,
          153,
          152,
          150,
          147,
          146,
          145,
          145,
          144,
          140,
          140,
          139,
          139,
          137,
          135,
          134,
          134,
          132,
          131,
          131,
          128,
          127,
          125,
          123,
          123,
          122,
          121,
          120,
          119,
          119,
          118,
          118,
          117,
          117,
          117,
          116,
          115,
          113,
          111,
          110,
          109,
          103,
          102,
          97,
          96,
          93,
          88,
          77,
          74,
          73,
          72,
          70,
          67,
          62,
          62,
          48,
          24,
          3
         ],
         "yaxis": "y"
        }
       ],
       "layout": {
        "legend": {
         "tracegroupgap": 0
        },
        "margin": {
         "t": 60
        },
        "template": {
         "data": {
          "bar": [
           {
            "error_x": {
             "color": "#2a3f5f"
            },
            "error_y": {
             "color": "#2a3f5f"
            },
            "marker": {
             "line": {
              "color": "#E5ECF6",
              "width": 0.5
             },
             "pattern": {
              "fillmode": "overlay",
              "size": 10,
              "solidity": 0.2
             }
            },
            "type": "bar"
           }
          ],
          "barpolar": [
           {
            "marker": {
             "line": {
              "color": "#E5ECF6",
              "width": 0.5
             },
             "pattern": {
              "fillmode": "overlay",
              "size": 10,
              "solidity": 0.2
             }
            },
            "type": "barpolar"
           }
          ],
          "carpet": [
           {
            "aaxis": {
             "endlinecolor": "#2a3f5f",
             "gridcolor": "white",
             "linecolor": "white",
             "minorgridcolor": "white",
             "startlinecolor": "#2a3f5f"
            },
            "baxis": {
             "endlinecolor": "#2a3f5f",
             "gridcolor": "white",
             "linecolor": "white",
             "minorgridcolor": "white",
             "startlinecolor": "#2a3f5f"
            },
            "type": "carpet"
           }
          ],
          "choropleth": [
           {
            "colorbar": {
             "outlinewidth": 0,
             "ticks": ""
            },
            "type": "choropleth"
           }
          ],
          "contour": [
           {
            "colorbar": {
             "outlinewidth": 0,
             "ticks": ""
            },
            "colorscale": [
             [
              0,
              "#0d0887"
             ],
             [
              0.1111111111111111,
              "#46039f"
             ],
             [
              0.2222222222222222,
              "#7201a8"
             ],
             [
              0.3333333333333333,
              "#9c179e"
             ],
             [
              0.4444444444444444,
              "#bd3786"
             ],
             [
              0.5555555555555556,
              "#d8576b"
             ],
             [
              0.6666666666666666,
              "#ed7953"
             ],
             [
              0.7777777777777778,
              "#fb9f3a"
             ],
             [
              0.8888888888888888,
              "#fdca26"
             ],
             [
              1,
              "#f0f921"
             ]
            ],
            "type": "contour"
           }
          ],
          "contourcarpet": [
           {
            "colorbar": {
             "outlinewidth": 0,
             "ticks": ""
            },
            "type": "contourcarpet"
           }
          ],
          "heatmap": [
           {
            "colorbar": {
             "outlinewidth": 0,
             "ticks": ""
            },
            "colorscale": [
             [
              0,
              "#0d0887"
             ],
             [
              0.1111111111111111,
              "#46039f"
             ],
             [
              0.2222222222222222,
              "#7201a8"
             ],
             [
              0.3333333333333333,
              "#9c179e"
             ],
             [
              0.4444444444444444,
              "#bd3786"
             ],
             [
              0.5555555555555556,
              "#d8576b"
             ],
             [
              0.6666666666666666,
              "#ed7953"
             ],
             [
              0.7777777777777778,
              "#fb9f3a"
             ],
             [
              0.8888888888888888,
              "#fdca26"
             ],
             [
              1,
              "#f0f921"
             ]
            ],
            "type": "heatmap"
           }
          ],
          "heatmapgl": [
           {
            "colorbar": {
             "outlinewidth": 0,
             "ticks": ""
            },
            "colorscale": [
             [
              0,
              "#0d0887"
             ],
             [
              0.1111111111111111,
              "#46039f"
             ],
             [
              0.2222222222222222,
              "#7201a8"
             ],
             [
              0.3333333333333333,
              "#9c179e"
             ],
             [
              0.4444444444444444,
              "#bd3786"
             ],
             [
              0.5555555555555556,
              "#d8576b"
             ],
             [
              0.6666666666666666,
              "#ed7953"
             ],
             [
              0.7777777777777778,
              "#fb9f3a"
             ],
             [
              0.8888888888888888,
              "#fdca26"
             ],
             [
              1,
              "#f0f921"
             ]
            ],
            "type": "heatmapgl"
           }
          ],
          "histogram": [
           {
            "marker": {
             "pattern": {
              "fillmode": "overlay",
              "size": 10,
              "solidity": 0.2
             }
            },
            "type": "histogram"
           }
          ],
          "histogram2d": [
           {
            "colorbar": {
             "outlinewidth": 0,
             "ticks": ""
            },
            "colorscale": [
             [
              0,
              "#0d0887"
             ],
             [
              0.1111111111111111,
              "#46039f"
             ],
             [
              0.2222222222222222,
              "#7201a8"
             ],
             [
              0.3333333333333333,
              "#9c179e"
             ],
             [
              0.4444444444444444,
              "#bd3786"
             ],
             [
              0.5555555555555556,
              "#d8576b"
             ],
             [
              0.6666666666666666,
              "#ed7953"
             ],
             [
              0.7777777777777778,
              "#fb9f3a"
             ],
             [
              0.8888888888888888,
              "#fdca26"
             ],
             [
              1,
              "#f0f921"
             ]
            ],
            "type": "histogram2d"
           }
          ],
          "histogram2dcontour": [
           {
            "colorbar": {
             "outlinewidth": 0,
             "ticks": ""
            },
            "colorscale": [
             [
              0,
              "#0d0887"
             ],
             [
              0.1111111111111111,
              "#46039f"
             ],
             [
              0.2222222222222222,
              "#7201a8"
             ],
             [
              0.3333333333333333,
              "#9c179e"
             ],
             [
              0.4444444444444444,
              "#bd3786"
             ],
             [
              0.5555555555555556,
              "#d8576b"
             ],
             [
              0.6666666666666666,
              "#ed7953"
             ],
             [
              0.7777777777777778,
              "#fb9f3a"
             ],
             [
              0.8888888888888888,
              "#fdca26"
             ],
             [
              1,
              "#f0f921"
             ]
            ],
            "type": "histogram2dcontour"
           }
          ],
          "mesh3d": [
           {
            "colorbar": {
             "outlinewidth": 0,
             "ticks": ""
            },
            "type": "mesh3d"
           }
          ],
          "parcoords": [
           {
            "line": {
             "colorbar": {
              "outlinewidth": 0,
              "ticks": ""
             }
            },
            "type": "parcoords"
           }
          ],
          "pie": [
           {
            "automargin": true,
            "type": "pie"
           }
          ],
          "scatter": [
           {
            "fillpattern": {
             "fillmode": "overlay",
             "size": 10,
             "solidity": 0.2
            },
            "type": "scatter"
           }
          ],
          "scatter3d": [
           {
            "line": {
             "colorbar": {
              "outlinewidth": 0,
              "ticks": ""
             }
            },
            "marker": {
             "colorbar": {
              "outlinewidth": 0,
              "ticks": ""
             }
            },
            "type": "scatter3d"
           }
          ],
          "scattercarpet": [
           {
            "marker": {
             "colorbar": {
              "outlinewidth": 0,
              "ticks": ""
             }
            },
            "type": "scattercarpet"
           }
          ],
          "scattergeo": [
           {
            "marker": {
             "colorbar": {
              "outlinewidth": 0,
              "ticks": ""
             }
            },
            "type": "scattergeo"
           }
          ],
          "scattergl": [
           {
            "marker": {
             "colorbar": {
              "outlinewidth": 0,
              "ticks": ""
             }
            },
            "type": "scattergl"
           }
          ],
          "scattermapbox": [
           {
            "marker": {
             "colorbar": {
              "outlinewidth": 0,
              "ticks": ""
             }
            },
            "type": "scattermapbox"
           }
          ],
          "scatterpolar": [
           {
            "marker": {
             "colorbar": {
              "outlinewidth": 0,
              "ticks": ""
             }
            },
            "type": "scatterpolar"
           }
          ],
          "scatterpolargl": [
           {
            "marker": {
             "colorbar": {
              "outlinewidth": 0,
              "ticks": ""
             }
            },
            "type": "scatterpolargl"
           }
          ],
          "scatterternary": [
           {
            "marker": {
             "colorbar": {
              "outlinewidth": 0,
              "ticks": ""
             }
            },
            "type": "scatterternary"
           }
          ],
          "surface": [
           {
            "colorbar": {
             "outlinewidth": 0,
             "ticks": ""
            },
            "colorscale": [
             [
              0,
              "#0d0887"
             ],
             [
              0.1111111111111111,
              "#46039f"
             ],
             [
              0.2222222222222222,
              "#7201a8"
             ],
             [
              0.3333333333333333,
              "#9c179e"
             ],
             [
              0.4444444444444444,
              "#bd3786"
             ],
             [
              0.5555555555555556,
              "#d8576b"
             ],
             [
              0.6666666666666666,
              "#ed7953"
             ],
             [
              0.7777777777777778,
              "#fb9f3a"
             ],
             [
              0.8888888888888888,
              "#fdca26"
             ],
             [
              1,
              "#f0f921"
             ]
            ],
            "type": "surface"
           }
          ],
          "table": [
           {
            "cells": {
             "fill": {
              "color": "#EBF0F8"
             },
             "line": {
              "color": "white"
             }
            },
            "header": {
             "fill": {
              "color": "#C8D4E3"
             },
             "line": {
              "color": "white"
             }
            },
            "type": "table"
           }
          ]
         },
         "layout": {
          "annotationdefaults": {
           "arrowcolor": "#2a3f5f",
           "arrowhead": 0,
           "arrowwidth": 1
          },
          "autotypenumbers": "strict",
          "coloraxis": {
           "colorbar": {
            "outlinewidth": 0,
            "ticks": ""
           }
          },
          "colorscale": {
           "diverging": [
            [
             0,
             "#8e0152"
            ],
            [
             0.1,
             "#c51b7d"
            ],
            [
             0.2,
             "#de77ae"
            ],
            [
             0.3,
             "#f1b6da"
            ],
            [
             0.4,
             "#fde0ef"
            ],
            [
             0.5,
             "#f7f7f7"
            ],
            [
             0.6,
             "#e6f5d0"
            ],
            [
             0.7,
             "#b8e186"
            ],
            [
             0.8,
             "#7fbc41"
            ],
            [
             0.9,
             "#4d9221"
            ],
            [
             1,
             "#276419"
            ]
           ],
           "sequential": [
            [
             0,
             "#0d0887"
            ],
            [
             0.1111111111111111,
             "#46039f"
            ],
            [
             0.2222222222222222,
             "#7201a8"
            ],
            [
             0.3333333333333333,
             "#9c179e"
            ],
            [
             0.4444444444444444,
             "#bd3786"
            ],
            [
             0.5555555555555556,
             "#d8576b"
            ],
            [
             0.6666666666666666,
             "#ed7953"
            ],
            [
             0.7777777777777778,
             "#fb9f3a"
            ],
            [
             0.8888888888888888,
             "#fdca26"
            ],
            [
             1,
             "#f0f921"
            ]
           ],
           "sequentialminus": [
            [
             0,
             "#0d0887"
            ],
            [
             0.1111111111111111,
             "#46039f"
            ],
            [
             0.2222222222222222,
             "#7201a8"
            ],
            [
             0.3333333333333333,
             "#9c179e"
            ],
            [
             0.4444444444444444,
             "#bd3786"
            ],
            [
             0.5555555555555556,
             "#d8576b"
            ],
            [
             0.6666666666666666,
             "#ed7953"
            ],
            [
             0.7777777777777778,
             "#fb9f3a"
            ],
            [
             0.8888888888888888,
             "#fdca26"
            ],
            [
             1,
             "#f0f921"
            ]
           ]
          },
          "colorway": [
           "#636efa",
           "#EF553B",
           "#00cc96",
           "#ab63fa",
           "#FFA15A",
           "#19d3f3",
           "#FF6692",
           "#B6E880",
           "#FF97FF",
           "#FECB52"
          ],
          "font": {
           "color": "#2a3f5f"
          },
          "geo": {
           "bgcolor": "white",
           "lakecolor": "white",
           "landcolor": "#E5ECF6",
           "showlakes": true,
           "showland": true,
           "subunitcolor": "white"
          },
          "hoverlabel": {
           "align": "left"
          },
          "hovermode": "closest",
          "mapbox": {
           "style": "light"
          },
          "paper_bgcolor": "white",
          "plot_bgcolor": "#E5ECF6",
          "polar": {
           "angularaxis": {
            "gridcolor": "white",
            "linecolor": "white",
            "ticks": ""
           },
           "bgcolor": "#E5ECF6",
           "radialaxis": {
            "gridcolor": "white",
            "linecolor": "white",
            "ticks": ""
           }
          },
          "scene": {
           "xaxis": {
            "backgroundcolor": "#E5ECF6",
            "gridcolor": "white",
            "gridwidth": 2,
            "linecolor": "white",
            "showbackground": true,
            "ticks": "",
            "zerolinecolor": "white"
           },
           "yaxis": {
            "backgroundcolor": "#E5ECF6",
            "gridcolor": "white",
            "gridwidth": 2,
            "linecolor": "white",
            "showbackground": true,
            "ticks": "",
            "zerolinecolor": "white"
           },
           "zaxis": {
            "backgroundcolor": "#E5ECF6",
            "gridcolor": "white",
            "gridwidth": 2,
            "linecolor": "white",
            "showbackground": true,
            "ticks": "",
            "zerolinecolor": "white"
           }
          },
          "shapedefaults": {
           "line": {
            "color": "#2a3f5f"
           }
          },
          "ternary": {
           "aaxis": {
            "gridcolor": "white",
            "linecolor": "white",
            "ticks": ""
           },
           "baxis": {
            "gridcolor": "white",
            "linecolor": "white",
            "ticks": ""
           },
           "bgcolor": "#E5ECF6",
           "caxis": {
            "gridcolor": "white",
            "linecolor": "white",
            "ticks": ""
           }
          },
          "title": {
           "x": 0.05
          },
          "xaxis": {
           "automargin": true,
           "gridcolor": "white",
           "linecolor": "white",
           "ticks": "",
           "title": {
            "standoff": 15
           },
           "zerolinecolor": "white",
           "zerolinewidth": 2
          },
          "yaxis": {
           "automargin": true,
           "gridcolor": "white",
           "linecolor": "white",
           "ticks": "",
           "title": {
            "standoff": 15
           },
           "zerolinecolor": "white",
           "zerolinewidth": 2
          }
         }
        },
        "xaxis": {
         "anchor": "y",
         "domain": [
          0,
          1
         ],
         "title": {
          "text": "x"
         }
        },
        "yaxis": {
         "anchor": "x",
         "domain": [
          0,
          1
         ],
         "title": {
          "text": "y"
         }
        }
       }
      }
     },
     "metadata": {},
     "output_type": "display_data"
    }
   ],
   "source": [
    "import plotly.express as px\n",
    "viable_listings = listings.query(\"sold_date.notna()\").copy()\n",
    "px.scatter(x=viable_listings.sold_date.unique(), y=viable_listings.sold_date.value_counts())"
   ]
  },
  {
   "cell_type": "code",
   "execution_count": null,
   "metadata": {},
   "outputs": [
    {
     "data": {
      "text/html": [
       "<div>\n",
       "<style scoped>\n",
       "    .dataframe tbody tr th:only-of-type {\n",
       "        vertical-align: middle;\n",
       "    }\n",
       "\n",
       "    .dataframe tbody tr th {\n",
       "        vertical-align: top;\n",
       "    }\n",
       "\n",
       "    .dataframe thead th {\n",
       "        text-align: right;\n",
       "    }\n",
       "</style>\n",
       "<table border=\"1\" class=\"dataframe\">\n",
       "  <thead>\n",
       "    <tr style=\"text-align: right;\">\n",
       "      <th></th>\n",
       "      <th>url_listing_type</th>\n",
       "      <th>url_listing_id</th>\n",
       "      <th>booli_id</th>\n",
       "      <th>sold_date</th>\n",
       "      <th>days_listed</th>\n",
       "      <th>residence_type</th>\n",
       "      <th>address</th>\n",
       "      <th>apartment_number</th>\n",
       "      <th>urban_area</th>\n",
       "      <th>municipality</th>\n",
       "      <th>construction_year</th>\n",
       "      <th>list_price</th>\n",
       "      <th>sold_price</th>\n",
       "      <th>sold_price_type</th>\n",
       "      <th>first_price</th>\n",
       "      <th>monthly_payment</th>\n",
       "      <th>rent</th>\n",
       "      <th>operating_cost</th>\n",
       "      <th>energy_class</th>\n",
       "      <th>floor</th>\n",
       "      <th>building_floors</th>\n",
       "      <th>latitude</th>\n",
       "      <th>longitude</th>\n",
       "      <th>has_solar_panels</th>\n",
       "      <th>agency_id</th>\n",
       "      <th>agent_id</th>\n",
       "      <th>booli_ids_of_previous_sales</th>\n",
       "      <th>n_previous_sales</th>\n",
       "      <th>sold_YYYY_MM</th>\n",
       "    </tr>\n",
       "  </thead>\n",
       "  <tbody>\n",
       "    <tr>\n",
       "      <th>0</th>\n",
       "      <td>bostad</td>\n",
       "      <td>2556516</td>\n",
       "      <td>5153109</td>\n",
       "      <td>2023-12-05</td>\n",
       "      <td>25.0</td>\n",
       "      <td>Villa</td>\n",
       "      <td>Västerbyvägen 9</td>\n",
       "      <td>None</td>\n",
       "      <td>Norsholm</td>\n",
       "      <td>Norrköping</td>\n",
       "      <td>1979.0</td>\n",
       "      <td>3325000.0</td>\n",
       "      <td>3250000.0</td>\n",
       "      <td>Slutpris</td>\n",
       "      <td>3 325 000</td>\n",
       "      <td>None</td>\n",
       "      <td>NaN</td>\n",
       "      <td>4398.0</td>\n",
       "      <td>D</td>\n",
       "      <td>None</td>\n",
       "      <td>NaN</td>\n",
       "      <td>58.505988</td>\n",
       "      <td>15.976788</td>\n",
       "      <td>None</td>\n",
       "      <td>26</td>\n",
       "      <td>11016</td>\n",
       "      <td>[5153109]</td>\n",
       "      <td>1</td>\n",
       "      <td>2023-12</td>\n",
       "    </tr>\n",
       "    <tr>\n",
       "      <th>1</th>\n",
       "      <td>bostad</td>\n",
       "      <td>1890105</td>\n",
       "      <td>5147734</td>\n",
       "      <td>2023-12-05</td>\n",
       "      <td>32.0</td>\n",
       "      <td>Villa</td>\n",
       "      <td>Sliparevägen 3</td>\n",
       "      <td>None</td>\n",
       "      <td>Rejmyre</td>\n",
       "      <td>Finspång</td>\n",
       "      <td>1978.0</td>\n",
       "      <td>1495000.0</td>\n",
       "      <td>1495000.0</td>\n",
       "      <td>Slutpris</td>\n",
       "      <td>1 495 000</td>\n",
       "      <td>None</td>\n",
       "      <td>NaN</td>\n",
       "      <td>4102.0</td>\n",
       "      <td>C</td>\n",
       "      <td>None</td>\n",
       "      <td>NaN</td>\n",
       "      <td>58.826413</td>\n",
       "      <td>15.938500</td>\n",
       "      <td>None</td>\n",
       "      <td>962</td>\n",
       "      <td>9543</td>\n",
       "      <td>[5147734, -9035770]</td>\n",
       "      <td>2</td>\n",
       "      <td>2023-12</td>\n",
       "    </tr>\n",
       "    <tr>\n",
       "      <th>2</th>\n",
       "      <td>bostad</td>\n",
       "      <td>1706785</td>\n",
       "      <td>5168064</td>\n",
       "      <td>2023-12-05</td>\n",
       "      <td>8.0</td>\n",
       "      <td>Villa</td>\n",
       "      <td>Kronoparksvägen 22</td>\n",
       "      <td>None</td>\n",
       "      <td>Ivetofta</td>\n",
       "      <td>Bromölla</td>\n",
       "      <td>1980.0</td>\n",
       "      <td>2095000.0</td>\n",
       "      <td>2400000.0</td>\n",
       "      <td>Slutpris</td>\n",
       "      <td>2 095 000</td>\n",
       "      <td>None</td>\n",
       "      <td>NaN</td>\n",
       "      <td>2648.0</td>\n",
       "      <td>C</td>\n",
       "      <td>None</td>\n",
       "      <td>NaN</td>\n",
       "      <td>56.091915</td>\n",
       "      <td>14.466163</td>\n",
       "      <td>None</td>\n",
       "      <td>20</td>\n",
       "      <td>11931</td>\n",
       "      <td>[5168064, 984971, 350836]</td>\n",
       "      <td>3</td>\n",
       "      <td>2023-12</td>\n",
       "    </tr>\n",
       "    <tr>\n",
       "      <th>3</th>\n",
       "      <td>bostad</td>\n",
       "      <td>3997519</td>\n",
       "      <td>5078126</td>\n",
       "      <td>2023-12-05</td>\n",
       "      <td>102.0</td>\n",
       "      <td>Lägenhet</td>\n",
       "      <td>Borgarfjordsgatan 21B</td>\n",
       "      <td>1303</td>\n",
       "      <td>Kista</td>\n",
       "      <td>Stockholm</td>\n",
       "      <td>2015.0</td>\n",
       "      <td>2495000.0</td>\n",
       "      <td>2450000.0</td>\n",
       "      <td>Slutpris</td>\n",
       "      <td>2 595 000</td>\n",
       "      <td>None</td>\n",
       "      <td>4274.0</td>\n",
       "      <td>NaN</td>\n",
       "      <td>D</td>\n",
       "      <td>3</td>\n",
       "      <td>NaN</td>\n",
       "      <td>59.404946</td>\n",
       "      <td>17.941505</td>\n",
       "      <td>None</td>\n",
       "      <td>16</td>\n",
       "      <td>6529</td>\n",
       "      <td>[5078126]</td>\n",
       "      <td>1</td>\n",
       "      <td>2023-12</td>\n",
       "    </tr>\n",
       "    <tr>\n",
       "      <th>4</th>\n",
       "      <td>annons</td>\n",
       "      <td>5119460</td>\n",
       "      <td>5119460</td>\n",
       "      <td>2023-12-05</td>\n",
       "      <td>39.0</td>\n",
       "      <td>Lägenhet</td>\n",
       "      <td>Rålambsvägen 48</td>\n",
       "      <td>None</td>\n",
       "      <td>Fredhäll</td>\n",
       "      <td>Stockholm</td>\n",
       "      <td>1931.0</td>\n",
       "      <td>3400000.0</td>\n",
       "      <td>3400000.0</td>\n",
       "      <td>Slutpris</td>\n",
       "      <td>3 195 000</td>\n",
       "      <td>None</td>\n",
       "      <td>2213.0</td>\n",
       "      <td>855.0</td>\n",
       "      <td>None</td>\n",
       "      <td>3</td>\n",
       "      <td>NaN</td>\n",
       "      <td>59.330127</td>\n",
       "      <td>18.005056</td>\n",
       "      <td>None</td>\n",
       "      <td>34</td>\n",
       "      <td>9162</td>\n",
       "      <td>[5119460]</td>\n",
       "      <td>1</td>\n",
       "      <td>2023-12</td>\n",
       "    </tr>\n",
       "    <tr>\n",
       "      <th>...</th>\n",
       "      <td>...</td>\n",
       "      <td>...</td>\n",
       "      <td>...</td>\n",
       "      <td>...</td>\n",
       "      <td>...</td>\n",
       "      <td>...</td>\n",
       "      <td>...</td>\n",
       "      <td>...</td>\n",
       "      <td>...</td>\n",
       "      <td>...</td>\n",
       "      <td>...</td>\n",
       "      <td>...</td>\n",
       "      <td>...</td>\n",
       "      <td>...</td>\n",
       "      <td>...</td>\n",
       "      <td>...</td>\n",
       "      <td>...</td>\n",
       "      <td>...</td>\n",
       "      <td>...</td>\n",
       "      <td>...</td>\n",
       "      <td>...</td>\n",
       "      <td>...</td>\n",
       "      <td>...</td>\n",
       "      <td>...</td>\n",
       "      <td>...</td>\n",
       "      <td>...</td>\n",
       "      <td>...</td>\n",
       "      <td>...</td>\n",
       "      <td>...</td>\n",
       "    </tr>\n",
       "    <tr>\n",
       "      <th>309957</th>\n",
       "      <td>bostad</td>\n",
       "      <td>2407266</td>\n",
       "      <td>4818529</td>\n",
       "      <td>2023-06-01</td>\n",
       "      <td>133.0</td>\n",
       "      <td>Villa</td>\n",
       "      <td>Zacharias väg 14</td>\n",
       "      <td>None</td>\n",
       "      <td>Kulltorp</td>\n",
       "      <td>Kristianstad</td>\n",
       "      <td>1937.0</td>\n",
       "      <td>2695000.0</td>\n",
       "      <td>2630000.0</td>\n",
       "      <td>Lagfart</td>\n",
       "      <td>2 890 000</td>\n",
       "      <td>None</td>\n",
       "      <td>NaN</td>\n",
       "      <td>2373.0</td>\n",
       "      <td>G</td>\n",
       "      <td>None</td>\n",
       "      <td>NaN</td>\n",
       "      <td>56.052645</td>\n",
       "      <td>14.185546</td>\n",
       "      <td>None</td>\n",
       "      <td>1071</td>\n",
       "      <td>11246</td>\n",
       "      <td>[4818529, 4547164]</td>\n",
       "      <td>2</td>\n",
       "      <td>2023-06</td>\n",
       "    </tr>\n",
       "    <tr>\n",
       "      <th>310141</th>\n",
       "      <td>bostad</td>\n",
       "      <td>518000</td>\n",
       "      <td>4990861</td>\n",
       "      <td>2023-06-01</td>\n",
       "      <td>10.0</td>\n",
       "      <td>Lägenhet</td>\n",
       "      <td>Norra Liden 8</td>\n",
       "      <td>1501</td>\n",
       "      <td>Kungshöjd Och Inom Vallgraven</td>\n",
       "      <td>Göteborg</td>\n",
       "      <td>1947.0</td>\n",
       "      <td>5850000.0</td>\n",
       "      <td>5900000.0</td>\n",
       "      <td>Slutpris</td>\n",
       "      <td>5 850 000</td>\n",
       "      <td>None</td>\n",
       "      <td>4575.0</td>\n",
       "      <td>325.0</td>\n",
       "      <td>D</td>\n",
       "      <td>4</td>\n",
       "      <td>NaN</td>\n",
       "      <td>57.704597</td>\n",
       "      <td>11.958324</td>\n",
       "      <td>None</td>\n",
       "      <td>294</td>\n",
       "      <td>11605</td>\n",
       "      <td>[4990861, 4577769]</td>\n",
       "      <td>2</td>\n",
       "      <td>2023-06</td>\n",
       "    </tr>\n",
       "    <tr>\n",
       "      <th>310187</th>\n",
       "      <td>bostad</td>\n",
       "      <td>4010918</td>\n",
       "      <td>5111124</td>\n",
       "      <td>2023-12-05</td>\n",
       "      <td>32.0</td>\n",
       "      <td>Lägenhet</td>\n",
       "      <td>Råcksta Gårdsväg 28</td>\n",
       "      <td>1802</td>\n",
       "      <td>Vällingby Parkstad</td>\n",
       "      <td>Stockholm</td>\n",
       "      <td>2014.0</td>\n",
       "      <td>2495000.0</td>\n",
       "      <td>2650000.0</td>\n",
       "      <td>Slutpris</td>\n",
       "      <td>2 495 000</td>\n",
       "      <td>None</td>\n",
       "      <td>3583.0</td>\n",
       "      <td>375.0</td>\n",
       "      <td>B</td>\n",
       "      <td>8</td>\n",
       "      <td>NaN</td>\n",
       "      <td>59.355201</td>\n",
       "      <td>17.885914</td>\n",
       "      <td>None</td>\n",
       "      <td>32</td>\n",
       "      <td>10216</td>\n",
       "      <td>[5111124, 4581935]</td>\n",
       "      <td>2</td>\n",
       "      <td>2023-12</td>\n",
       "    </tr>\n",
       "    <tr>\n",
       "      <th>310450</th>\n",
       "      <td>bostad</td>\n",
       "      <td>441268</td>\n",
       "      <td>5107654</td>\n",
       "      <td>2023-12-14</td>\n",
       "      <td>61.0</td>\n",
       "      <td>Lägenhet</td>\n",
       "      <td>Karolinagatan 1</td>\n",
       "      <td>1101</td>\n",
       "      <td>Huvudsta</td>\n",
       "      <td>Solna</td>\n",
       "      <td>1951.0</td>\n",
       "      <td>4995000.0</td>\n",
       "      <td>5125000.0</td>\n",
       "      <td>Sista bud</td>\n",
       "      <td>5 395 000</td>\n",
       "      <td>None</td>\n",
       "      <td>5189.0</td>\n",
       "      <td>1146.0</td>\n",
       "      <td>G</td>\n",
       "      <td>None</td>\n",
       "      <td>NaN</td>\n",
       "      <td>59.352290</td>\n",
       "      <td>17.996105</td>\n",
       "      <td>None</td>\n",
       "      <td>12</td>\n",
       "      <td>13693</td>\n",
       "      <td>[5107654, 4570371]</td>\n",
       "      <td>2</td>\n",
       "      <td>2023-12</td>\n",
       "    </tr>\n",
       "    <tr>\n",
       "      <th>316204</th>\n",
       "      <td>bostad</td>\n",
       "      <td>201918</td>\n",
       "      <td>5071291</td>\n",
       "      <td>2023-11-30</td>\n",
       "      <td>104.0</td>\n",
       "      <td>Lägenhet</td>\n",
       "      <td>Bryggaregatan 13</td>\n",
       "      <td>1203</td>\n",
       "      <td>Klara</td>\n",
       "      <td>Karlstad</td>\n",
       "      <td>1930.0</td>\n",
       "      <td>1595000.0</td>\n",
       "      <td>1600000.0</td>\n",
       "      <td>Slutpris</td>\n",
       "      <td>1 595 000</td>\n",
       "      <td>None</td>\n",
       "      <td>4092.0</td>\n",
       "      <td>398.0</td>\n",
       "      <td>E</td>\n",
       "      <td>2</td>\n",
       "      <td>NaN</td>\n",
       "      <td>59.383724</td>\n",
       "      <td>13.493711</td>\n",
       "      <td>None</td>\n",
       "      <td>10</td>\n",
       "      <td>11563</td>\n",
       "      <td>[5071291, 4571864]</td>\n",
       "      <td>2</td>\n",
       "      <td>2023-11</td>\n",
       "    </tr>\n",
       "  </tbody>\n",
       "</table>\n",
       "<p>169388 rows × 29 columns</p>\n",
       "</div>"
      ],
      "text/plain": [
       "       url_listing_type  url_listing_id booli_id   sold_date  days_listed  \\\n",
       "0                bostad         2556516  5153109  2023-12-05         25.0   \n",
       "1                bostad         1890105  5147734  2023-12-05         32.0   \n",
       "2                bostad         1706785  5168064  2023-12-05          8.0   \n",
       "3                bostad         3997519  5078126  2023-12-05        102.0   \n",
       "4                annons         5119460  5119460  2023-12-05         39.0   \n",
       "...                 ...             ...      ...         ...          ...   \n",
       "309957           bostad         2407266  4818529  2023-06-01        133.0   \n",
       "310141           bostad          518000  4990861  2023-06-01         10.0   \n",
       "310187           bostad         4010918  5111124  2023-12-05         32.0   \n",
       "310450           bostad          441268  5107654  2023-12-14         61.0   \n",
       "316204           bostad          201918  5071291  2023-11-30        104.0   \n",
       "\n",
       "       residence_type                address apartment_number  \\\n",
       "0               Villa        Västerbyvägen 9             None   \n",
       "1               Villa         Sliparevägen 3             None   \n",
       "2               Villa     Kronoparksvägen 22             None   \n",
       "3            Lägenhet  Borgarfjordsgatan 21B             1303   \n",
       "4            Lägenhet        Rålambsvägen 48             None   \n",
       "...               ...                    ...              ...   \n",
       "309957          Villa       Zacharias väg 14             None   \n",
       "310141       Lägenhet          Norra Liden 8             1501   \n",
       "310187       Lägenhet    Råcksta Gårdsväg 28             1802   \n",
       "310450       Lägenhet        Karolinagatan 1             1101   \n",
       "316204       Lägenhet       Bryggaregatan 13             1203   \n",
       "\n",
       "                           urban_area  municipality  construction_year  \\\n",
       "0                            Norsholm    Norrköping             1979.0   \n",
       "1                             Rejmyre      Finspång             1978.0   \n",
       "2                            Ivetofta      Bromölla             1980.0   \n",
       "3                               Kista     Stockholm             2015.0   \n",
       "4                            Fredhäll     Stockholm             1931.0   \n",
       "...                               ...           ...                ...   \n",
       "309957                       Kulltorp  Kristianstad             1937.0   \n",
       "310141  Kungshöjd Och Inom Vallgraven      Göteborg             1947.0   \n",
       "310187             Vällingby Parkstad     Stockholm             2014.0   \n",
       "310450                       Huvudsta         Solna             1951.0   \n",
       "316204                          Klara      Karlstad             1930.0   \n",
       "\n",
       "        list_price  sold_price sold_price_type first_price monthly_payment  \\\n",
       "0        3325000.0   3250000.0        Slutpris   3 325 000            None   \n",
       "1        1495000.0   1495000.0        Slutpris   1 495 000            None   \n",
       "2        2095000.0   2400000.0        Slutpris   2 095 000            None   \n",
       "3        2495000.0   2450000.0        Slutpris   2 595 000            None   \n",
       "4        3400000.0   3400000.0        Slutpris   3 195 000            None   \n",
       "...            ...         ...             ...         ...             ...   \n",
       "309957   2695000.0   2630000.0         Lagfart   2 890 000            None   \n",
       "310141   5850000.0   5900000.0        Slutpris   5 850 000            None   \n",
       "310187   2495000.0   2650000.0        Slutpris   2 495 000            None   \n",
       "310450   4995000.0   5125000.0       Sista bud   5 395 000            None   \n",
       "316204   1595000.0   1600000.0        Slutpris   1 595 000            None   \n",
       "\n",
       "          rent  operating_cost energy_class floor  building_floors   latitude  \\\n",
       "0          NaN          4398.0            D  None              NaN  58.505988   \n",
       "1          NaN          4102.0            C  None              NaN  58.826413   \n",
       "2          NaN          2648.0            C  None              NaN  56.091915   \n",
       "3       4274.0             NaN            D     3              NaN  59.404946   \n",
       "4       2213.0           855.0         None     3              NaN  59.330127   \n",
       "...        ...             ...          ...   ...              ...        ...   \n",
       "309957     NaN          2373.0            G  None              NaN  56.052645   \n",
       "310141  4575.0           325.0            D     4              NaN  57.704597   \n",
       "310187  3583.0           375.0            B     8              NaN  59.355201   \n",
       "310450  5189.0          1146.0            G  None              NaN  59.352290   \n",
       "316204  4092.0           398.0            E     2              NaN  59.383724   \n",
       "\n",
       "        longitude has_solar_panels agency_id agent_id  \\\n",
       "0       15.976788             None        26    11016   \n",
       "1       15.938500             None       962     9543   \n",
       "2       14.466163             None        20    11931   \n",
       "3       17.941505             None        16     6529   \n",
       "4       18.005056             None        34     9162   \n",
       "...           ...              ...       ...      ...   \n",
       "309957  14.185546             None      1071    11246   \n",
       "310141  11.958324             None       294    11605   \n",
       "310187  17.885914             None        32    10216   \n",
       "310450  17.996105             None        12    13693   \n",
       "316204  13.493711             None        10    11563   \n",
       "\n",
       "       booli_ids_of_previous_sales  n_previous_sales sold_YYYY_MM  \n",
       "0                        [5153109]                 1      2023-12  \n",
       "1              [5147734, -9035770]                 2      2023-12  \n",
       "2        [5168064, 984971, 350836]                 3      2023-12  \n",
       "3                        [5078126]                 1      2023-12  \n",
       "4                        [5119460]                 1      2023-12  \n",
       "...                            ...               ...          ...  \n",
       "309957          [4818529, 4547164]                 2      2023-06  \n",
       "310141          [4990861, 4577769]                 2      2023-06  \n",
       "310187          [5111124, 4581935]                 2      2023-12  \n",
       "310450          [5107654, 4570371]                 2      2023-12  \n",
       "316204          [5071291, 4571864]                 2      2023-11  \n",
       "\n",
       "[169388 rows x 29 columns]"
      ]
     },
     "execution_count": 4,
     "metadata": {},
     "output_type": "execute_result"
    }
   ],
   "source": [
    "viable_listings[\"sold_YYYY_MM\"] = [date[:-3] for date in viable_listings[\"sold_date\"]]\n",
    "\n",
    "viable_listings"
   ]
  },
  {
   "cell_type": "code",
   "execution_count": null,
   "metadata": {},
   "outputs": [],
   "source": []
  }
 ],
 "metadata": {
  "kernelspec": {
   "display_name": ".venv",
   "language": "python",
   "name": "python3"
  },
  "language_info": {
   "codemirror_mode": {
    "name": "ipython",
    "version": 3
   },
   "file_extension": ".py",
   "mimetype": "text/x-python",
   "name": "python",
   "nbconvert_exporter": "python",
   "pygments_lexer": "ipython3",
   "version": "3.10.10"
  },
  "orig_nbformat": 4,
  "vscode": {
   "interpreter": {
    "hash": "e33bb7b2cc010271644b84a13393be6366e525871ad6044d36d413a1c22c2e2a"
   }
  }
 },
 "nbformat": 4,
 "nbformat_minor": 2
}
