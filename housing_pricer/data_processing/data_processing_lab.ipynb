{
 "cells": [
  {
   "cell_type": "code",
   "execution_count": 64,
   "metadata": {},
   "outputs": [],
   "source": [
    "from housing_pricer.scraping.utilities.data_manager import DataManager\n",
    "from housing_pricer.data_processing.data_processing_utils import format_json_to_dataframe, get_nested_dict_value, MissingDataError\n",
    "import pandas as pd\n",
    "import plotly.express as px\n",
    "import numpy as np\n",
    "import matplotlib.pyplot as plt\n",
    "import xgboost as xgb\n",
    "from sklearn.model_selection import train_test_split\n",
    "import os\n",
    "\n",
    "def lookup_raw_listing(data_manager: DataManager, listing_id: str) -> dict:\n",
    "    for entry in data_manager.load_data():\n",
    "        if entry[\"id\"] == listing_id:\n",
    "            return entry\n",
    "    raise RuntimeError(\"Missing entry\")\n",
    "\n",
    "pd.set_option('display.max_columns', None)\n",
    "RAW_DATA_STORAGE = \"../scraping/data_storage\"\n",
    "LISTINGS_DF_PATH = \"listings_dataframe.pickle\"\n",
    "if os.path.exists(LISTINGS_DF_PATH):\n",
    "    listings = pd.read_pickle(LISTINGS_DF_PATH)\n",
    "else:\n",
    "    data = DataManager(base_dir=RAW_DATA_STORAGE, data_filename=\"scraped_data_old\").load_data()\n",
    "    listings = format_json_to_dataframe(data)\n",
    "    listings.to_pickle(LISTINGS_DF_PATH)"
   ]
  },
  {
   "cell_type": "code",
   "execution_count": 126,
   "metadata": {},
   "outputs": [],
   "source": [
    "from sklearn.pipeline import Pipeline\n",
    "from sklearn.compose import ColumnTransformer\n",
    "from sklearn.preprocessing import OneHotEncoder\n",
    "from sklearn.model_selection import train_test_split\n",
    "from typing import Any\n",
    "GREATER_STHLM_AREA_MUNICIPALITIES = [\"Stockholm\", \"Sundbyberg\", \"Lidingö\", \"Solna\", \"Täby\", \"Huddinge\", \"Sollentuna\", \"Danderyd\"]\n",
    "\n",
    "def preprocess_listings(listings: pd.DataFrame, predictor_cols: list[str], target_cols: list[str]) -> pd.DataFrame:\n",
    "    viable_listings = (\n",
    "        listings\n",
    "        .replace({None: np.NaN})\n",
    "        .assign(total_monthly_cost = listings.operating_cost + listings.rent)\n",
    "        .query(\"sold_price.notna() and municipality.isin(@GREATER_STHLM_AREA_MUNICIPALITIES)\")\n",
    "    )\n",
    "    processed_listings = viable_listings[predictor_cols + target_cols].dropna().copy()\n",
    "    return processed_listings\n",
    "\n",
    "from sklearn.base import BaseEstimator, RegressorMixin\n",
    "class XGBRegressorDMatrix(BaseEstimator, RegressorMixin):\n",
    "    def __init__(self, **xgb_params):\n",
    "        self.xgb_params = xgb_params\n",
    "        self.model = xgb.XGBRegressor(**self.xgb_params)\n",
    "\n",
    "    def fit(self, X, y):\n",
    "        dtrain = xgb.DMatrix(data=X, label=y)\n",
    "        self.model = xgb.train(self.xgb_params, dtrain)\n",
    "        return self\n",
    "\n",
    "    def predict(self, X):\n",
    "        dtest = xgb.DMatrix(data=X)\n",
    "        return self.model.predict(dtest)\n",
    "    \n",
    "def build_xgb_model(numeric_predictors: list[str], categorical_predictors: list[str], xgb_hyperparams: dict[str, Any] = {}) -> Pipeline:\n",
    "    preprocessor = ColumnTransformer(\n",
    "        transformers=[\n",
    "            ('num', 'passthrough', numeric_predictors),\n",
    "            ('cat', OneHotEncoder(), categorical_predictors)\n",
    "        ])\n",
    "\n",
    "    model = Pipeline(steps=[\n",
    "        ('preprocessor', preprocessor),\n",
    "        ('regressor', XGBRegressorDMatrix(**xgb_hyperparams))\n",
    "    ])\n",
    "    return model\n",
    "\n",
    "def train_and_evaluate(model: Pipeline, X: pd.DataFrame, y: pd.DataFrame, test_size: float, random_state: int):\n",
    "    X_train, X_test, y_train, y_test = train_test_split(X, y, test_size=test_size, random_state=random_state)\n",
    "\n",
    "    model.fit(X_train, y_train)\n",
    "\n",
    "    y_pred = model.predict(X_test)\n",
    "    y_test = y_test.values.flatten()\n",
    "    abs_prediction_error = np.abs(y_pred - y_test)\n",
    "    med_rel_err = np.median(abs_prediction_error/y_test)\n",
    "    print(f\"Median relative error: {med_rel_err}\")\n",
    "\n",
    "    return model\n",
    "\n",
    "# def plot_feature_importance(pipeline: Pipeline, predictor_cols: list[str]):\n",
    "#     feature_importances = pipeline.named_steps['regressor'].feature_importances_\n",
    "#     preprocessor = pipeline.named_steps['preprocessor']\n",
    "#     all_feature_names = predictor_cols.copy()\n",
    "\n",
    "#     for transformer in preprocessor.transformers_:\n",
    "#         if transformer[0] == 'cat':\n",
    "#             ohe_features = transformer[1].get_feature_names_out()\n",
    "#             all_feature_names.extend(ohe_features)\n",
    "#             all_feature_names = [f for f in all_feature_names if f not in transformer[2]]\n",
    "\n",
    "#     feature_importance_df = pd.DataFrame({'Feature': all_feature_names, 'Importance': feature_importances})\n",
    "#     feature_importance_df = feature_importance_df.sort_values(by='Importance', ascending=False)\n",
    "\n",
    "#     plt.figure(figsize=(6, 3))\n",
    "#     plt.barh(feature_importance_df['Feature'], feature_importance_df['Importance'])\n",
    "#     plt.xlabel('Feature Importance')\n",
    "#     plt.ylabel('Feature')\n",
    "#     plt.title('Feature Importance from XGBoost')\n",
    "#     plt.show()"
   ]
  },
  {
   "cell_type": "code",
   "execution_count": 127,
   "metadata": {},
   "outputs": [],
   "source": [
    "PREDICTOR_COLS = [\n",
    "    \"residence_type\", \n",
    "    \"construction_year\", \n",
    "    \"living_area\",\n",
    "    \"total_monthly_cost\",\n",
    "    \"latitude\", \n",
    "    \"longitude\",\n",
    "    ]\n",
    "TARGET_COL = [\"sold_price\"]\n",
    "viable_listings = preprocess_listings(listings, PREDICTOR_COLS, TARGET_COL)"
   ]
  },
  {
   "cell_type": "code",
   "execution_count": 129,
   "metadata": {},
   "outputs": [
    {
     "ename": "ValueError",
     "evalue": "DataFrame.dtypes for data must be int, float, bool or category. When categorical type is supplied, The experimental DMatrix parameter`enable_categorical` must be set to `True`.  Invalid columns:residence_type: object",
     "output_type": "error",
     "traceback": [
      "\u001b[0;31m---------------------------------------------------------------------------\u001b[0m",
      "\u001b[0;31mValueError\u001b[0m                                Traceback (most recent call last)",
      "Cell \u001b[0;32mIn[129], line 21\u001b[0m\n\u001b[1;32m     16\u001b[0m xgb_hyperparams\u001b[39m=\u001b[39m{\u001b[39m'\u001b[39m\u001b[39mobjective\u001b[39m\u001b[39m'\u001b[39m: \u001b[39m'\u001b[39m\u001b[39mreg:absoluteerror\u001b[39m\u001b[39m'\u001b[39m, \u001b[39m'\u001b[39m\u001b[39mmax_depth\u001b[39m\u001b[39m'\u001b[39m: \u001b[39m15\u001b[39m}\n\u001b[1;32m     17\u001b[0m cv_params \u001b[39m=\u001b[39m {\u001b[39m\"\u001b[39m\u001b[39mnfold\u001b[39m\u001b[39m\"\u001b[39m: \u001b[39m5\u001b[39m,\n\u001b[1;32m     18\u001b[0m     \u001b[39m\"\u001b[39m\u001b[39mmetrics\u001b[39m\u001b[39m\"\u001b[39m:{\u001b[39m'\u001b[39m\u001b[39mrmse\u001b[39m\u001b[39m'\u001b[39m},\n\u001b[1;32m     19\u001b[0m     \u001b[39m\"\u001b[39m\u001b[39mearly_stopping_rounds\u001b[39m\u001b[39m\"\u001b[39m:\u001b[39m10\u001b[39m\n\u001b[1;32m     20\u001b[0m }\n\u001b[0;32m---> 21\u001b[0m train_and_evaluate_with_cv(X\u001b[39m=\u001b[39;49mviable_listings[PREDICTOR_COLS], y\u001b[39m=\u001b[39;49mviable_listings[TARGET_COL], xgb_params\u001b[39m=\u001b[39;49mxgb_hyperparams, cv_params\u001b[39m=\u001b[39;49mcv_params)\n",
      "Cell \u001b[0;32mIn[129], line 2\u001b[0m, in \u001b[0;36mtrain_and_evaluate_with_cv\u001b[0;34m(X, y, xgb_params, cv_params)\u001b[0m\n\u001b[1;32m      1\u001b[0m \u001b[39mdef\u001b[39;00m \u001b[39mtrain_and_evaluate_with_cv\u001b[39m(X: pd\u001b[39m.\u001b[39mDataFrame, y: pd\u001b[39m.\u001b[39mDataFrame, xgb_params: \u001b[39mdict\u001b[39m, cv_params: \u001b[39mdict\u001b[39m):\n\u001b[0;32m----> 2\u001b[0m     dmatrix \u001b[39m=\u001b[39m xgb\u001b[39m.\u001b[39;49mDMatrix(data\u001b[39m=\u001b[39;49mX, label\u001b[39m=\u001b[39;49my)\n\u001b[1;32m      3\u001b[0m     cv_results \u001b[39m=\u001b[39m xgb\u001b[39m.\u001b[39mcv(\n\u001b[1;32m      4\u001b[0m         dtrain\u001b[39m=\u001b[39mdmatrix,\n\u001b[1;32m      5\u001b[0m         params\u001b[39m=\u001b[39mxgb_params,\n\u001b[1;32m      6\u001b[0m         \u001b[39m*\u001b[39m\u001b[39m*\u001b[39mcv_params\n\u001b[1;32m      7\u001b[0m     )\n\u001b[1;32m      8\u001b[0m     \u001b[39mprint\u001b[39m(\u001b[39mf\u001b[39m\u001b[39m\"\u001b[39m\u001b[39mCV results:\u001b[39m\u001b[39m\\n\u001b[39;00m\u001b[39m{\u001b[39;00mcv_results\u001b[39m}\u001b[39;00m\u001b[39m\"\u001b[39m)\n",
      "File \u001b[0;32m~/HousingPricer/.venv/lib/python3.10/site-packages/xgboost/core.py:729\u001b[0m, in \u001b[0;36mrequire_keyword_args.<locals>.throw_if.<locals>.inner_f\u001b[0;34m(*args, **kwargs)\u001b[0m\n\u001b[1;32m    727\u001b[0m \u001b[39mfor\u001b[39;00m k, arg \u001b[39min\u001b[39;00m \u001b[39mzip\u001b[39m(sig\u001b[39m.\u001b[39mparameters, args):\n\u001b[1;32m    728\u001b[0m     kwargs[k] \u001b[39m=\u001b[39m arg\n\u001b[0;32m--> 729\u001b[0m \u001b[39mreturn\u001b[39;00m func(\u001b[39m*\u001b[39;49m\u001b[39m*\u001b[39;49mkwargs)\n",
      "File \u001b[0;32m~/HousingPricer/.venv/lib/python3.10/site-packages/xgboost/core.py:856\u001b[0m, in \u001b[0;36mDMatrix.__init__\u001b[0;34m(self, data, label, weight, base_margin, missing, silent, feature_names, feature_types, nthread, group, qid, label_lower_bound, label_upper_bound, feature_weights, enable_categorical, data_split_mode)\u001b[0m\n\u001b[1;32m    853\u001b[0m     \u001b[39massert\u001b[39;00m \u001b[39mself\u001b[39m\u001b[39m.\u001b[39mhandle \u001b[39mis\u001b[39;00m \u001b[39mnot\u001b[39;00m \u001b[39mNone\u001b[39;00m\n\u001b[1;32m    854\u001b[0m     \u001b[39mreturn\u001b[39;00m\n\u001b[0;32m--> 856\u001b[0m handle, feature_names, feature_types \u001b[39m=\u001b[39m dispatch_data_backend(\n\u001b[1;32m    857\u001b[0m     data,\n\u001b[1;32m    858\u001b[0m     missing\u001b[39m=\u001b[39;49m\u001b[39mself\u001b[39;49m\u001b[39m.\u001b[39;49mmissing,\n\u001b[1;32m    859\u001b[0m     threads\u001b[39m=\u001b[39;49m\u001b[39mself\u001b[39;49m\u001b[39m.\u001b[39;49mnthread,\n\u001b[1;32m    860\u001b[0m     feature_names\u001b[39m=\u001b[39;49mfeature_names,\n\u001b[1;32m    861\u001b[0m     feature_types\u001b[39m=\u001b[39;49mfeature_types,\n\u001b[1;32m    862\u001b[0m     enable_categorical\u001b[39m=\u001b[39;49menable_categorical,\n\u001b[1;32m    863\u001b[0m     data_split_mode\u001b[39m=\u001b[39;49mdata_split_mode,\n\u001b[1;32m    864\u001b[0m )\n\u001b[1;32m    865\u001b[0m \u001b[39massert\u001b[39;00m handle \u001b[39mis\u001b[39;00m \u001b[39mnot\u001b[39;00m \u001b[39mNone\u001b[39;00m\n\u001b[1;32m    866\u001b[0m \u001b[39mself\u001b[39m\u001b[39m.\u001b[39mhandle \u001b[39m=\u001b[39m handle\n",
      "File \u001b[0;32m~/HousingPricer/.venv/lib/python3.10/site-packages/xgboost/data.py:1089\u001b[0m, in \u001b[0;36mdispatch_data_backend\u001b[0;34m(data, missing, threads, feature_names, feature_types, enable_categorical, data_split_mode)\u001b[0m\n\u001b[1;32m   1087\u001b[0m     data \u001b[39m=\u001b[39m pd\u001b[39m.\u001b[39mDataFrame(data)\n\u001b[1;32m   1088\u001b[0m \u001b[39mif\u001b[39;00m _is_pandas_df(data):\n\u001b[0;32m-> 1089\u001b[0m     \u001b[39mreturn\u001b[39;00m _from_pandas_df(\n\u001b[1;32m   1090\u001b[0m         data, enable_categorical, missing, threads, feature_names, feature_types\n\u001b[1;32m   1091\u001b[0m     )\n\u001b[1;32m   1092\u001b[0m \u001b[39mif\u001b[39;00m _is_cudf_df(data) \u001b[39mor\u001b[39;00m _is_cudf_ser(data):\n\u001b[1;32m   1093\u001b[0m     \u001b[39mreturn\u001b[39;00m _from_cudf_df(\n\u001b[1;32m   1094\u001b[0m         data, missing, threads, feature_names, feature_types, enable_categorical\n\u001b[1;32m   1095\u001b[0m     )\n",
      "File \u001b[0;32m~/HousingPricer/.venv/lib/python3.10/site-packages/xgboost/data.py:522\u001b[0m, in \u001b[0;36m_from_pandas_df\u001b[0;34m(data, enable_categorical, missing, nthread, feature_names, feature_types)\u001b[0m\n\u001b[1;32m    514\u001b[0m \u001b[39mdef\u001b[39;00m \u001b[39m_from_pandas_df\u001b[39m(\n\u001b[1;32m    515\u001b[0m     data: DataFrame,\n\u001b[1;32m    516\u001b[0m     enable_categorical: \u001b[39mbool\u001b[39m,\n\u001b[0;32m   (...)\u001b[0m\n\u001b[1;32m    520\u001b[0m     feature_types: Optional[FeatureTypes],\n\u001b[1;32m    521\u001b[0m ) \u001b[39m-\u001b[39m\u001b[39m>\u001b[39m DispatchedDataBackendReturnType:\n\u001b[0;32m--> 522\u001b[0m     data, feature_names, feature_types \u001b[39m=\u001b[39m _transform_pandas_df(\n\u001b[1;32m    523\u001b[0m         data, enable_categorical, feature_names, feature_types\n\u001b[1;32m    524\u001b[0m     )\n\u001b[1;32m    525\u001b[0m     \u001b[39mreturn\u001b[39;00m _from_numpy_array(data, missing, nthread, feature_names, feature_types)\n",
      "File \u001b[0;32m~/HousingPricer/.venv/lib/python3.10/site-packages/xgboost/data.py:490\u001b[0m, in \u001b[0;36m_transform_pandas_df\u001b[0;34m(data, enable_categorical, feature_names, feature_types, meta, meta_type)\u001b[0m\n\u001b[1;32m    483\u001b[0m \u001b[39mfor\u001b[39;00m dtype \u001b[39min\u001b[39;00m data\u001b[39m.\u001b[39mdtypes:\n\u001b[1;32m    484\u001b[0m     \u001b[39mif\u001b[39;00m \u001b[39mnot\u001b[39;00m (\n\u001b[1;32m    485\u001b[0m         (dtype\u001b[39m.\u001b[39mname \u001b[39min\u001b[39;00m _pandas_dtype_mapper)\n\u001b[1;32m    486\u001b[0m         \u001b[39mor\u001b[39;00m is_pd_sparse_dtype(dtype)\n\u001b[1;32m    487\u001b[0m         \u001b[39mor\u001b[39;00m (is_pd_cat_dtype(dtype) \u001b[39mand\u001b[39;00m enable_categorical)\n\u001b[1;32m    488\u001b[0m         \u001b[39mor\u001b[39;00m is_pa_ext_dtype(dtype)\n\u001b[1;32m    489\u001b[0m     ):\n\u001b[0;32m--> 490\u001b[0m         _invalid_dataframe_dtype(data)\n\u001b[1;32m    491\u001b[0m     \u001b[39mif\u001b[39;00m is_pa_ext_dtype(dtype):\n\u001b[1;32m    492\u001b[0m         pyarrow_extension \u001b[39m=\u001b[39m \u001b[39mTrue\u001b[39;00m\n",
      "File \u001b[0;32m~/HousingPricer/.venv/lib/python3.10/site-packages/xgboost/data.py:308\u001b[0m, in \u001b[0;36m_invalid_dataframe_dtype\u001b[0;34m(data)\u001b[0m\n\u001b[1;32m    306\u001b[0m type_err \u001b[39m=\u001b[39m \u001b[39m\"\u001b[39m\u001b[39mDataFrame.dtypes for data must be int, float, bool or category.\u001b[39m\u001b[39m\"\u001b[39m\n\u001b[1;32m    307\u001b[0m msg \u001b[39m=\u001b[39m \u001b[39mf\u001b[39m\u001b[39m\"\"\"\u001b[39m\u001b[39m{\u001b[39;00mtype_err\u001b[39m}\u001b[39;00m\u001b[39m \u001b[39m\u001b[39m{\u001b[39;00m_ENABLE_CAT_ERR\u001b[39m}\u001b[39;00m\u001b[39m \u001b[39m\u001b[39m{\u001b[39;00merr\u001b[39m}\u001b[39;00m\u001b[39m\"\"\"\u001b[39m\n\u001b[0;32m--> 308\u001b[0m \u001b[39mraise\u001b[39;00m \u001b[39mValueError\u001b[39;00m(msg)\n",
      "\u001b[0;31mValueError\u001b[0m: DataFrame.dtypes for data must be int, float, bool or category. When categorical type is supplied, The experimental DMatrix parameter`enable_categorical` must be set to `True`.  Invalid columns:residence_type: object"
     ]
    }
   ],
   "source": [
    "def train_and_evaluate_with_cv(X: pd.DataFrame, y: pd.DataFrame, xgb_params: dict, cv_params: dict):\n",
    "    dmatrix = xgb.DMatrix(data=X, label=y)\n",
    "    cv_results = xgb.cv(\n",
    "        dtrain=dmatrix,\n",
    "        params=xgb_params,\n",
    "        **cv_params\n",
    "    )\n",
    "    print(f\"CV results:\\n{cv_results}\")\n",
    "\n",
    "    test_metric = cv_params.get('metrics', 'rmse') #+ '-test'\n",
    "    mean_test_metric = cv_results[test_metric].mean()\n",
    "    std_test_metric = cv_results[test_metric].std()\n",
    "    print(f\"Mean {test_metric}: {mean_test_metric:.4f}, Std: {std_test_metric:.4f}\")\n",
    "    return cv_results\n",
    "\n",
    "xgb_hyperparams={'objective': 'reg:absoluteerror', 'max_depth': 15}\n",
    "cv_params = {\"nfold\": 5,\n",
    "    \"metrics\":{'rmse'},\n",
    "    \"early_stopping_rounds\":10\n",
    "}\n",
    "train_and_evaluate_with_cv(X=viable_listings[PREDICTOR_COLS], y=viable_listings[TARGET_COL], xgb_params=xgb_hyperparams, cv_params=cv_params)"
   ]
  },
  {
   "cell_type": "code",
   "execution_count": 124,
   "metadata": {},
   "outputs": [
    {
     "name": "stdout",
     "output_type": "stream",
     "text": [
      "Median relative error: 0.06391958677685951\n"
     ]
    }
   ],
   "source": [
    "model = build_xgb_model(\n",
    "    numeric_predictors=[\n",
    "    \"construction_year\", \n",
    "    \"living_area\",\n",
    "    \"total_monthly_cost\",\n",
    "    \"latitude\", \n",
    "    \"longitude\"], \n",
    "    categorical_predictors=[\"residence_type\"],\n",
    "    xgb_hyperparams={\n",
    "\n",
    "        'objective': 'reg:absoluteerror', \n",
    "        'max_depth': 15}\n",
    ")\n",
    "trained_model = train_and_evaluate(model, X=viable_listings[PREDICTOR_COLS], y=viable_listings[TARGET_COL], test_size=0.1, random_state=5)\n",
    "# plot_feature_importance(model, predictor_cols=PREDICTOR_COLS)"
   ]
  },
  {
   "cell_type": "code",
   "execution_count": null,
   "metadata": {},
   "outputs": [],
   "source": []
  },
  {
   "cell_type": "code",
   "execution_count": null,
   "metadata": {},
   "outputs": [],
   "source": []
  },
  {
   "cell_type": "code",
   "execution_count": null,
   "metadata": {},
   "outputs": [],
   "source": []
  },
  {
   "cell_type": "code",
   "execution_count": null,
   "metadata": {},
   "outputs": [],
   "source": []
  },
  {
   "attachments": {},
   "cell_type": "markdown",
   "metadata": {},
   "source": [
    "# Data analysis"
   ]
  },
  {
   "cell_type": "code",
   "execution_count": null,
   "metadata": {},
   "outputs": [
    {
     "data": {
      "application/vnd.plotly.v1+json": {
       "config": {
        "plotlyServerURL": "https://plot.ly"
       },
       "data": [
        {
         "hovertemplate": "x=%{x}<br>y=%{y}<extra></extra>",
         "legendgroup": "",
         "marker": {
          "color": "#636efa",
          "symbol": "circle"
         },
         "mode": "markers",
         "name": "",
         "orientation": "v",
         "showlegend": false,
         "type": "scatter",
         "x": [
          "2023-12-05",
          "2023-12-04",
          "2023-12-03",
          "2023-12-02",
          "2023-12-01",
          "2023-11-30",
          "2023-11-29",
          "2023-11-28",
          "2023-11-27",
          "2023-11-26",
          "2023-11-25",
          "2023-11-24",
          "2023-11-23",
          "2023-11-22",
          "2023-11-21",
          "2023-11-20",
          "2023-11-19",
          "2023-11-18",
          "2023-11-17",
          "2023-11-16",
          "2023-11-15",
          "2023-11-14",
          "2023-11-13",
          "2023-11-12",
          "2023-11-11",
          "2023-11-10",
          "2023-11-09",
          "2023-11-08",
          "2023-11-07",
          "2023-11-06",
          "2023-11-05",
          "2023-11-04",
          "2023-11-03",
          "2023-11-02",
          "2023-11-01",
          "2023-10-31",
          "2023-10-30",
          "2023-10-29",
          "2023-10-28",
          "2023-10-27",
          "2023-10-26",
          "2023-10-25",
          "2023-10-24",
          "2023-10-23",
          "2023-10-22",
          "2023-10-21",
          "2023-10-20",
          "2023-10-19",
          "2023-10-18",
          "2023-10-17",
          "2023-10-16",
          "2023-10-15",
          "2023-10-14",
          "2023-10-13",
          "2023-10-12",
          "2023-10-11",
          "2023-10-10",
          "2023-10-09",
          "2023-10-08",
          "2023-10-07",
          "2023-10-06",
          "2023-10-03",
          "2023-10-05",
          "2023-10-04",
          "2023-10-02",
          "2023-10-01",
          "2023-09-30",
          "2023-09-29",
          "2023-09-28",
          "2023-09-27",
          "2023-09-26",
          "2023-09-25",
          "2023-09-24",
          "2023-12-06",
          "2023-09-23",
          "2023-09-22",
          "2023-09-21",
          "2023-09-20",
          "2023-09-19",
          "2023-09-18",
          "2023-09-17",
          "2023-09-16",
          "2023-09-15",
          "2023-09-14",
          "2023-09-13",
          "2023-09-12",
          "2023-09-11",
          "2023-09-10",
          "2023-09-09",
          "2023-09-08",
          "2023-09-07",
          "2023-09-06",
          "2023-09-05",
          "2023-09-04",
          "2023-09-03",
          "2023-09-02",
          "2023-09-01",
          "2023-12-07",
          "2023-08-31",
          "2023-08-30",
          "2023-08-29",
          "2023-08-28",
          "2023-08-27",
          "2023-08-26",
          "2023-08-25",
          "2023-08-24",
          "2023-08-23",
          "2023-08-22",
          "2023-08-21",
          "2023-08-20",
          "2023-08-19",
          "2023-08-18",
          "2023-08-17",
          "2023-08-16",
          "2023-08-15",
          "2023-08-14",
          "2023-08-13",
          "2023-08-12",
          "2023-08-11",
          "2023-08-10",
          "2023-08-09",
          "2023-08-08",
          "2023-08-07",
          "2023-08-06",
          "2023-08-05",
          "2023-08-04",
          "2023-08-03",
          "2023-08-02",
          "2023-08-01",
          "2023-07-31",
          "2023-07-30",
          "2023-07-29",
          "2023-07-28",
          "2023-07-27",
          "2023-07-26",
          "2023-07-25",
          "2023-07-24",
          "2023-07-23",
          "2023-07-22",
          "2023-07-21",
          "2023-07-20",
          "2023-07-19",
          "2023-07-18",
          "2023-07-17",
          "2023-07-16",
          "2023-07-15",
          "2023-07-14",
          "2023-07-13",
          "2023-07-12",
          "2023-07-11",
          "2023-07-10",
          "2023-07-09",
          "2023-07-08",
          "2023-07-07",
          "2023-07-06",
          "2023-07-05",
          "2023-07-04",
          "2023-07-03",
          "2023-07-02",
          "2023-07-01",
          "2023-06-30",
          "2023-06-29",
          "2023-06-28",
          "2023-06-27",
          "2023-06-26",
          "2023-06-25",
          "2023-06-24",
          "2023-06-23",
          "2023-06-22",
          "2023-06-20",
          "2023-06-19",
          "2023-06-18",
          "2023-06-17",
          "2023-06-16",
          "2023-06-15",
          "2023-06-14",
          "2023-06-13",
          "2023-06-12",
          "2023-06-04",
          "2023-06-03",
          "2023-06-02",
          "2023-06-09",
          "2023-05-02",
          "2023-05-26",
          "2023-06-01",
          "2023-05-01",
          "2023-04-30",
          "2023-04-29",
          "2023-06-05",
          "2023-04-28",
          "2023-04-27",
          "2023-04-26",
          "2023-05-15",
          "2023-05-12",
          "2023-05-19",
          "2023-04-25",
          "2023-05-05",
          "2023-04-24",
          "2023-04-23",
          "2023-04-22",
          "2023-04-21",
          "2023-05-04",
          "2023-04-20",
          "2023-06-07",
          "2023-04-19",
          "2023-05-25",
          "2023-04-18",
          "2023-04-17",
          "2023-04-16",
          "2023-04-15",
          "2023-04-14",
          "2023-04-13",
          "2023-05-10",
          "2023-04-12",
          "2023-04-11",
          "2023-04-10",
          "2023-04-09",
          "2023-04-08",
          "2023-04-07",
          "2023-04-06",
          "2023-05-09",
          "2023-06-08",
          "2023-04-05",
          "2023-04-04",
          "2023-04-03",
          "2023-05-22",
          "2023-05-03",
          "2023-06-21",
          "2023-04-02",
          "2023-04-01",
          "2023-03-31",
          "2023-06-10",
          "2023-05-20",
          "2023-03-30",
          "2023-03-29",
          "2023-03-28",
          "2023-03-27",
          "2023-03-26",
          "2023-03-25",
          "2023-03-24",
          "2023-05-17",
          "2023-03-23",
          "2023-03-22",
          "2023-03-21",
          "2023-03-20",
          "2023-03-19",
          "2023-03-18",
          "2023-03-17",
          "2023-03-16",
          "2023-03-15",
          "2023-05-31",
          "2023-03-14",
          "2023-03-13",
          "2023-05-30",
          "2023-03-12",
          "2023-03-11",
          "2023-03-10",
          "2023-03-09",
          "2023-05-29",
          "2023-03-08",
          "2023-03-07",
          "2023-06-11",
          "2023-03-06",
          "2023-03-05",
          "2023-03-04",
          "2023-03-03",
          "2023-03-02",
          "2023-03-01",
          "2023-02-28",
          "2023-02-27",
          "2023-02-26",
          "2023-02-25",
          "2023-05-24",
          "2023-02-24",
          "2023-02-23",
          "2023-02-22",
          "2023-02-21",
          "2023-02-20",
          "2023-02-19",
          "2023-02-18",
          "2023-02-17",
          "2023-02-16",
          "2023-02-15",
          "2023-02-14",
          "2023-02-13",
          "2023-02-12",
          "2023-02-11",
          "2023-02-10",
          "2023-02-09",
          "2023-02-08",
          "2023-02-07",
          "2023-02-06",
          "2023-02-05",
          "2023-02-04",
          "2023-02-03",
          "2023-02-02",
          "2023-02-01",
          "2023-12-12",
          "2023-12-11",
          "2023-12-10",
          "2023-12-09",
          "2023-12-08",
          "2023-12-13",
          "2023-06-06",
          "2023-05-28",
          "2023-05-27",
          "2023-05-23",
          "2023-05-21",
          "2023-05-18",
          "2023-05-16",
          "2023-05-14",
          "2023-05-13",
          "2023-05-11",
          "2023-05-08",
          "2023-05-07",
          "2023-05-06",
          "2023-01-31",
          "2023-01-30",
          "2023-01-29",
          "2023-01-28",
          "2023-01-27",
          "2023-01-26",
          "2023-01-25",
          "2023-01-24",
          "2023-01-23",
          "2023-01-22",
          "2023-01-21",
          "2023-01-20",
          "2023-01-19",
          "2023-01-18",
          "2023-01-17",
          "2023-01-16",
          "2023-01-15",
          "2023-01-14",
          "2023-01-13",
          "2023-01-12",
          "2023-01-11",
          "2023-01-10",
          "2023-01-09",
          "2023-01-08",
          "2023-01-07",
          "2023-01-06",
          "2023-01-05",
          "2023-01-04",
          "2023-01-03",
          "2023-01-02",
          "2023-01-01",
          "2022-12-31",
          "2022-12-30",
          "2022-12-29",
          "2022-12-28",
          "2022-12-27",
          "2022-12-26",
          "2022-12-25",
          "2022-12-24",
          "2022-12-23",
          "2022-12-22",
          "2022-12-21",
          "2022-12-20",
          "2022-12-19",
          "2022-12-18",
          "2022-12-17",
          "2022-12-16",
          "2022-12-15",
          "2023-12-14",
          "2023-12-16",
          "2023-12-15",
          "2023-12-17",
          "2023-12-18"
         ],
         "xaxis": "x",
         "y": [
          1957,
          1749,
          1627,
          1544,
          1481,
          1397,
          1310,
          1305,
          1303,
          1278,
          1272,
          1073,
          1045,
          1017,
          1012,
          1006,
          994,
          993,
          992,
          974,
          960,
          937,
          935,
          925,
          919,
          906,
          899,
          896,
          890,
          887,
          886,
          869,
          863,
          858,
          856,
          852,
          852,
          850,
          840,
          804,
          793,
          792,
          792,
          790,
          786,
          777,
          777,
          763,
          761,
          752,
          742,
          741,
          735,
          733,
          732,
          727,
          726,
          724,
          723,
          717,
          707,
          706,
          706,
          700,
          698,
          695,
          693,
          693,
          690,
          677,
          669,
          667,
          655,
          652,
          649,
          647,
          647,
          645,
          644,
          641,
          641,
          638,
          635,
          634,
          632,
          626,
          624,
          623,
          620,
          619,
          615,
          612,
          608,
          599,
          596,
          595,
          590,
          588,
          586,
          585,
          580,
          579,
          578,
          578,
          576,
          575,
          572,
          571,
          570,
          566,
          566,
          564,
          562,
          560,
          558,
          555,
          551,
          549,
          548,
          547,
          542,
          542,
          542,
          542,
          538,
          538,
          536,
          535,
          534,
          533,
          533,
          533,
          530,
          529,
          520,
          519,
          518,
          517,
          513,
          512,
          506,
          505,
          504,
          504,
          503,
          502,
          502,
          502,
          500,
          499,
          498,
          496,
          496,
          495,
          494,
          494,
          490,
          488,
          487,
          483,
          483,
          479,
          477,
          477,
          475,
          475,
          473,
          473,
          473,
          466,
          466,
          463,
          459,
          459,
          457,
          457,
          453,
          452,
          452,
          450,
          448,
          446,
          445,
          445,
          443,
          443,
          441,
          441,
          440,
          440,
          439,
          438,
          435,
          434,
          430,
          430,
          429,
          428,
          426,
          418,
          418,
          416,
          416,
          413,
          411,
          410,
          407,
          407,
          406,
          403,
          402,
          401,
          401,
          400,
          397,
          395,
          394,
          392,
          392,
          388,
          387,
          383,
          383,
          383,
          382,
          380,
          380,
          375,
          373,
          366,
          366,
          365,
          365,
          358,
          353,
          348,
          348,
          336,
          327,
          313,
          307,
          301,
          298,
          296,
          292,
          284,
          281,
          281,
          273,
          269,
          266,
          258,
          251,
          249,
          248,
          243,
          242,
          237,
          237,
          234,
          225,
          225,
          222,
          214,
          213,
          212,
          210,
          208,
          206,
          204,
          201,
          201,
          201,
          198,
          197,
          189,
          186,
          182,
          181,
          179,
          178,
          177,
          177,
          177,
          177,
          176,
          176,
          174,
          174,
          173,
          173,
          173,
          169,
          168,
          167,
          166,
          165,
          165,
          163,
          162,
          162,
          161,
          159,
          159,
          155,
          154,
          154,
          154,
          153,
          153,
          152,
          150,
          147,
          147,
          146,
          145,
          144,
          144,
          140,
          140,
          139,
          139,
          137,
          135,
          134,
          134,
          132,
          131,
          131,
          128,
          127,
          125,
          123,
          123,
          122,
          121,
          120,
          119,
          119,
          118,
          118,
          117,
          117,
          117,
          116,
          115,
          113,
          111,
          110,
          109,
          103,
          102,
          97,
          96,
          93,
          88,
          80,
          77,
          74,
          73,
          72,
          70,
          67,
          62,
          62,
          48,
          24,
          3,
          1
         ],
         "yaxis": "y"
        }
       ],
       "layout": {
        "legend": {
         "tracegroupgap": 0
        },
        "margin": {
         "t": 60
        },
        "template": {
         "data": {
          "bar": [
           {
            "error_x": {
             "color": "#2a3f5f"
            },
            "error_y": {
             "color": "#2a3f5f"
            },
            "marker": {
             "line": {
              "color": "#E5ECF6",
              "width": 0.5
             },
             "pattern": {
              "fillmode": "overlay",
              "size": 10,
              "solidity": 0.2
             }
            },
            "type": "bar"
           }
          ],
          "barpolar": [
           {
            "marker": {
             "line": {
              "color": "#E5ECF6",
              "width": 0.5
             },
             "pattern": {
              "fillmode": "overlay",
              "size": 10,
              "solidity": 0.2
             }
            },
            "type": "barpolar"
           }
          ],
          "carpet": [
           {
            "aaxis": {
             "endlinecolor": "#2a3f5f",
             "gridcolor": "white",
             "linecolor": "white",
             "minorgridcolor": "white",
             "startlinecolor": "#2a3f5f"
            },
            "baxis": {
             "endlinecolor": "#2a3f5f",
             "gridcolor": "white",
             "linecolor": "white",
             "minorgridcolor": "white",
             "startlinecolor": "#2a3f5f"
            },
            "type": "carpet"
           }
          ],
          "choropleth": [
           {
            "colorbar": {
             "outlinewidth": 0,
             "ticks": ""
            },
            "type": "choropleth"
           }
          ],
          "contour": [
           {
            "colorbar": {
             "outlinewidth": 0,
             "ticks": ""
            },
            "colorscale": [
             [
              0,
              "#0d0887"
             ],
             [
              0.1111111111111111,
              "#46039f"
             ],
             [
              0.2222222222222222,
              "#7201a8"
             ],
             [
              0.3333333333333333,
              "#9c179e"
             ],
             [
              0.4444444444444444,
              "#bd3786"
             ],
             [
              0.5555555555555556,
              "#d8576b"
             ],
             [
              0.6666666666666666,
              "#ed7953"
             ],
             [
              0.7777777777777778,
              "#fb9f3a"
             ],
             [
              0.8888888888888888,
              "#fdca26"
             ],
             [
              1,
              "#f0f921"
             ]
            ],
            "type": "contour"
           }
          ],
          "contourcarpet": [
           {
            "colorbar": {
             "outlinewidth": 0,
             "ticks": ""
            },
            "type": "contourcarpet"
           }
          ],
          "heatmap": [
           {
            "colorbar": {
             "outlinewidth": 0,
             "ticks": ""
            },
            "colorscale": [
             [
              0,
              "#0d0887"
             ],
             [
              0.1111111111111111,
              "#46039f"
             ],
             [
              0.2222222222222222,
              "#7201a8"
             ],
             [
              0.3333333333333333,
              "#9c179e"
             ],
             [
              0.4444444444444444,
              "#bd3786"
             ],
             [
              0.5555555555555556,
              "#d8576b"
             ],
             [
              0.6666666666666666,
              "#ed7953"
             ],
             [
              0.7777777777777778,
              "#fb9f3a"
             ],
             [
              0.8888888888888888,
              "#fdca26"
             ],
             [
              1,
              "#f0f921"
             ]
            ],
            "type": "heatmap"
           }
          ],
          "heatmapgl": [
           {
            "colorbar": {
             "outlinewidth": 0,
             "ticks": ""
            },
            "colorscale": [
             [
              0,
              "#0d0887"
             ],
             [
              0.1111111111111111,
              "#46039f"
             ],
             [
              0.2222222222222222,
              "#7201a8"
             ],
             [
              0.3333333333333333,
              "#9c179e"
             ],
             [
              0.4444444444444444,
              "#bd3786"
             ],
             [
              0.5555555555555556,
              "#d8576b"
             ],
             [
              0.6666666666666666,
              "#ed7953"
             ],
             [
              0.7777777777777778,
              "#fb9f3a"
             ],
             [
              0.8888888888888888,
              "#fdca26"
             ],
             [
              1,
              "#f0f921"
             ]
            ],
            "type": "heatmapgl"
           }
          ],
          "histogram": [
           {
            "marker": {
             "pattern": {
              "fillmode": "overlay",
              "size": 10,
              "solidity": 0.2
             }
            },
            "type": "histogram"
           }
          ],
          "histogram2d": [
           {
            "colorbar": {
             "outlinewidth": 0,
             "ticks": ""
            },
            "colorscale": [
             [
              0,
              "#0d0887"
             ],
             [
              0.1111111111111111,
              "#46039f"
             ],
             [
              0.2222222222222222,
              "#7201a8"
             ],
             [
              0.3333333333333333,
              "#9c179e"
             ],
             [
              0.4444444444444444,
              "#bd3786"
             ],
             [
              0.5555555555555556,
              "#d8576b"
             ],
             [
              0.6666666666666666,
              "#ed7953"
             ],
             [
              0.7777777777777778,
              "#fb9f3a"
             ],
             [
              0.8888888888888888,
              "#fdca26"
             ],
             [
              1,
              "#f0f921"
             ]
            ],
            "type": "histogram2d"
           }
          ],
          "histogram2dcontour": [
           {
            "colorbar": {
             "outlinewidth": 0,
             "ticks": ""
            },
            "colorscale": [
             [
              0,
              "#0d0887"
             ],
             [
              0.1111111111111111,
              "#46039f"
             ],
             [
              0.2222222222222222,
              "#7201a8"
             ],
             [
              0.3333333333333333,
              "#9c179e"
             ],
             [
              0.4444444444444444,
              "#bd3786"
             ],
             [
              0.5555555555555556,
              "#d8576b"
             ],
             [
              0.6666666666666666,
              "#ed7953"
             ],
             [
              0.7777777777777778,
              "#fb9f3a"
             ],
             [
              0.8888888888888888,
              "#fdca26"
             ],
             [
              1,
              "#f0f921"
             ]
            ],
            "type": "histogram2dcontour"
           }
          ],
          "mesh3d": [
           {
            "colorbar": {
             "outlinewidth": 0,
             "ticks": ""
            },
            "type": "mesh3d"
           }
          ],
          "parcoords": [
           {
            "line": {
             "colorbar": {
              "outlinewidth": 0,
              "ticks": ""
             }
            },
            "type": "parcoords"
           }
          ],
          "pie": [
           {
            "automargin": true,
            "type": "pie"
           }
          ],
          "scatter": [
           {
            "fillpattern": {
             "fillmode": "overlay",
             "size": 10,
             "solidity": 0.2
            },
            "type": "scatter"
           }
          ],
          "scatter3d": [
           {
            "line": {
             "colorbar": {
              "outlinewidth": 0,
              "ticks": ""
             }
            },
            "marker": {
             "colorbar": {
              "outlinewidth": 0,
              "ticks": ""
             }
            },
            "type": "scatter3d"
           }
          ],
          "scattercarpet": [
           {
            "marker": {
             "colorbar": {
              "outlinewidth": 0,
              "ticks": ""
             }
            },
            "type": "scattercarpet"
           }
          ],
          "scattergeo": [
           {
            "marker": {
             "colorbar": {
              "outlinewidth": 0,
              "ticks": ""
             }
            },
            "type": "scattergeo"
           }
          ],
          "scattergl": [
           {
            "marker": {
             "colorbar": {
              "outlinewidth": 0,
              "ticks": ""
             }
            },
            "type": "scattergl"
           }
          ],
          "scattermapbox": [
           {
            "marker": {
             "colorbar": {
              "outlinewidth": 0,
              "ticks": ""
             }
            },
            "type": "scattermapbox"
           }
          ],
          "scatterpolar": [
           {
            "marker": {
             "colorbar": {
              "outlinewidth": 0,
              "ticks": ""
             }
            },
            "type": "scatterpolar"
           }
          ],
          "scatterpolargl": [
           {
            "marker": {
             "colorbar": {
              "outlinewidth": 0,
              "ticks": ""
             }
            },
            "type": "scatterpolargl"
           }
          ],
          "scatterternary": [
           {
            "marker": {
             "colorbar": {
              "outlinewidth": 0,
              "ticks": ""
             }
            },
            "type": "scatterternary"
           }
          ],
          "surface": [
           {
            "colorbar": {
             "outlinewidth": 0,
             "ticks": ""
            },
            "colorscale": [
             [
              0,
              "#0d0887"
             ],
             [
              0.1111111111111111,
              "#46039f"
             ],
             [
              0.2222222222222222,
              "#7201a8"
             ],
             [
              0.3333333333333333,
              "#9c179e"
             ],
             [
              0.4444444444444444,
              "#bd3786"
             ],
             [
              0.5555555555555556,
              "#d8576b"
             ],
             [
              0.6666666666666666,
              "#ed7953"
             ],
             [
              0.7777777777777778,
              "#fb9f3a"
             ],
             [
              0.8888888888888888,
              "#fdca26"
             ],
             [
              1,
              "#f0f921"
             ]
            ],
            "type": "surface"
           }
          ],
          "table": [
           {
            "cells": {
             "fill": {
              "color": "#EBF0F8"
             },
             "line": {
              "color": "white"
             }
            },
            "header": {
             "fill": {
              "color": "#C8D4E3"
             },
             "line": {
              "color": "white"
             }
            },
            "type": "table"
           }
          ]
         },
         "layout": {
          "annotationdefaults": {
           "arrowcolor": "#2a3f5f",
           "arrowhead": 0,
           "arrowwidth": 1
          },
          "autotypenumbers": "strict",
          "coloraxis": {
           "colorbar": {
            "outlinewidth": 0,
            "ticks": ""
           }
          },
          "colorscale": {
           "diverging": [
            [
             0,
             "#8e0152"
            ],
            [
             0.1,
             "#c51b7d"
            ],
            [
             0.2,
             "#de77ae"
            ],
            [
             0.3,
             "#f1b6da"
            ],
            [
             0.4,
             "#fde0ef"
            ],
            [
             0.5,
             "#f7f7f7"
            ],
            [
             0.6,
             "#e6f5d0"
            ],
            [
             0.7,
             "#b8e186"
            ],
            [
             0.8,
             "#7fbc41"
            ],
            [
             0.9,
             "#4d9221"
            ],
            [
             1,
             "#276419"
            ]
           ],
           "sequential": [
            [
             0,
             "#0d0887"
            ],
            [
             0.1111111111111111,
             "#46039f"
            ],
            [
             0.2222222222222222,
             "#7201a8"
            ],
            [
             0.3333333333333333,
             "#9c179e"
            ],
            [
             0.4444444444444444,
             "#bd3786"
            ],
            [
             0.5555555555555556,
             "#d8576b"
            ],
            [
             0.6666666666666666,
             "#ed7953"
            ],
            [
             0.7777777777777778,
             "#fb9f3a"
            ],
            [
             0.8888888888888888,
             "#fdca26"
            ],
            [
             1,
             "#f0f921"
            ]
           ],
           "sequentialminus": [
            [
             0,
             "#0d0887"
            ],
            [
             0.1111111111111111,
             "#46039f"
            ],
            [
             0.2222222222222222,
             "#7201a8"
            ],
            [
             0.3333333333333333,
             "#9c179e"
            ],
            [
             0.4444444444444444,
             "#bd3786"
            ],
            [
             0.5555555555555556,
             "#d8576b"
            ],
            [
             0.6666666666666666,
             "#ed7953"
            ],
            [
             0.7777777777777778,
             "#fb9f3a"
            ],
            [
             0.8888888888888888,
             "#fdca26"
            ],
            [
             1,
             "#f0f921"
            ]
           ]
          },
          "colorway": [
           "#636efa",
           "#EF553B",
           "#00cc96",
           "#ab63fa",
           "#FFA15A",
           "#19d3f3",
           "#FF6692",
           "#B6E880",
           "#FF97FF",
           "#FECB52"
          ],
          "font": {
           "color": "#2a3f5f"
          },
          "geo": {
           "bgcolor": "white",
           "lakecolor": "white",
           "landcolor": "#E5ECF6",
           "showlakes": true,
           "showland": true,
           "subunitcolor": "white"
          },
          "hoverlabel": {
           "align": "left"
          },
          "hovermode": "closest",
          "mapbox": {
           "style": "light"
          },
          "paper_bgcolor": "white",
          "plot_bgcolor": "#E5ECF6",
          "polar": {
           "angularaxis": {
            "gridcolor": "white",
            "linecolor": "white",
            "ticks": ""
           },
           "bgcolor": "#E5ECF6",
           "radialaxis": {
            "gridcolor": "white",
            "linecolor": "white",
            "ticks": ""
           }
          },
          "scene": {
           "xaxis": {
            "backgroundcolor": "#E5ECF6",
            "gridcolor": "white",
            "gridwidth": 2,
            "linecolor": "white",
            "showbackground": true,
            "ticks": "",
            "zerolinecolor": "white"
           },
           "yaxis": {
            "backgroundcolor": "#E5ECF6",
            "gridcolor": "white",
            "gridwidth": 2,
            "linecolor": "white",
            "showbackground": true,
            "ticks": "",
            "zerolinecolor": "white"
           },
           "zaxis": {
            "backgroundcolor": "#E5ECF6",
            "gridcolor": "white",
            "gridwidth": 2,
            "linecolor": "white",
            "showbackground": true,
            "ticks": "",
            "zerolinecolor": "white"
           }
          },
          "shapedefaults": {
           "line": {
            "color": "#2a3f5f"
           }
          },
          "ternary": {
           "aaxis": {
            "gridcolor": "white",
            "linecolor": "white",
            "ticks": ""
           },
           "baxis": {
            "gridcolor": "white",
            "linecolor": "white",
            "ticks": ""
           },
           "bgcolor": "#E5ECF6",
           "caxis": {
            "gridcolor": "white",
            "linecolor": "white",
            "ticks": ""
           }
          },
          "title": {
           "x": 0.05
          },
          "xaxis": {
           "automargin": true,
           "gridcolor": "white",
           "linecolor": "white",
           "ticks": "",
           "title": {
            "standoff": 15
           },
           "zerolinecolor": "white",
           "zerolinewidth": 2
          },
          "yaxis": {
           "automargin": true,
           "gridcolor": "white",
           "linecolor": "white",
           "ticks": "",
           "title": {
            "standoff": 15
           },
           "zerolinecolor": "white",
           "zerolinewidth": 2
          }
         }
        },
        "xaxis": {
         "anchor": "y",
         "domain": [
          0,
          1
         ],
         "title": {
          "text": "x"
         }
        },
        "yaxis": {
         "anchor": "x",
         "domain": [
          0,
          1
         ],
         "title": {
          "text": "y"
         }
        }
       }
      }
     },
     "metadata": {},
     "output_type": "display_data"
    }
   ],
   "source": [
    "viable_listings = listings.query(\"sold_date.notna()\").copy()\n",
    "px.scatter(x=viable_listings.sold_date.unique(), y=viable_listings.sold_date.value_counts())"
   ]
  },
  {
   "cell_type": "code",
   "execution_count": null,
   "metadata": {},
   "outputs": [
    {
     "data": {
      "text/html": [
       "<div>\n",
       "<style scoped>\n",
       "    .dataframe tbody tr th:only-of-type {\n",
       "        vertical-align: middle;\n",
       "    }\n",
       "\n",
       "    .dataframe tbody tr th {\n",
       "        vertical-align: top;\n",
       "    }\n",
       "\n",
       "    .dataframe thead th {\n",
       "        text-align: right;\n",
       "    }\n",
       "</style>\n",
       "<table border=\"1\" class=\"dataframe\">\n",
       "  <thead>\n",
       "    <tr style=\"text-align: right;\">\n",
       "      <th></th>\n",
       "      <th>url_listing_type</th>\n",
       "      <th>url_listing_id</th>\n",
       "      <th>booli_id</th>\n",
       "      <th>sold_date</th>\n",
       "      <th>days_listed</th>\n",
       "      <th>residence_type</th>\n",
       "      <th>address</th>\n",
       "      <th>apartment_number</th>\n",
       "      <th>urban_area</th>\n",
       "      <th>municipality</th>\n",
       "      <th>construction_year</th>\n",
       "      <th>list_price</th>\n",
       "      <th>sold_price</th>\n",
       "      <th>sold_price_type</th>\n",
       "      <th>first_price</th>\n",
       "      <th>monthly_payment</th>\n",
       "      <th>rent</th>\n",
       "      <th>operating_cost</th>\n",
       "      <th>energy_class</th>\n",
       "      <th>floor</th>\n",
       "      <th>building_floors</th>\n",
       "      <th>latitude</th>\n",
       "      <th>longitude</th>\n",
       "      <th>has_solar_panels</th>\n",
       "      <th>agency_id</th>\n",
       "      <th>agent_id</th>\n",
       "      <th>booli_ids_of_previous_sales</th>\n",
       "      <th>n_previous_sales</th>\n",
       "      <th>sold_YYYY_MM</th>\n",
       "    </tr>\n",
       "  </thead>\n",
       "  <tbody>\n",
       "    <tr>\n",
       "      <th>0</th>\n",
       "      <td>bostad</td>\n",
       "      <td>2556516</td>\n",
       "      <td>5153109</td>\n",
       "      <td>2023-12-05</td>\n",
       "      <td>25.0</td>\n",
       "      <td>Villa</td>\n",
       "      <td>Västerbyvägen 9</td>\n",
       "      <td>None</td>\n",
       "      <td>Norsholm</td>\n",
       "      <td>Norrköping</td>\n",
       "      <td>1979.0</td>\n",
       "      <td>3325000.0</td>\n",
       "      <td>3250000.0</td>\n",
       "      <td>Slutpris</td>\n",
       "      <td>3 325 000</td>\n",
       "      <td>None</td>\n",
       "      <td>NaN</td>\n",
       "      <td>4398.0</td>\n",
       "      <td>D</td>\n",
       "      <td>None</td>\n",
       "      <td>NaN</td>\n",
       "      <td>58.505988</td>\n",
       "      <td>15.976788</td>\n",
       "      <td>None</td>\n",
       "      <td>26</td>\n",
       "      <td>11016</td>\n",
       "      <td>[5153109]</td>\n",
       "      <td>1</td>\n",
       "      <td>2023-12</td>\n",
       "    </tr>\n",
       "    <tr>\n",
       "      <th>1</th>\n",
       "      <td>bostad</td>\n",
       "      <td>1890105</td>\n",
       "      <td>5147734</td>\n",
       "      <td>2023-12-05</td>\n",
       "      <td>32.0</td>\n",
       "      <td>Villa</td>\n",
       "      <td>Sliparevägen 3</td>\n",
       "      <td>None</td>\n",
       "      <td>Rejmyre</td>\n",
       "      <td>Finspång</td>\n",
       "      <td>1978.0</td>\n",
       "      <td>1495000.0</td>\n",
       "      <td>1495000.0</td>\n",
       "      <td>Slutpris</td>\n",
       "      <td>1 495 000</td>\n",
       "      <td>None</td>\n",
       "      <td>NaN</td>\n",
       "      <td>4102.0</td>\n",
       "      <td>C</td>\n",
       "      <td>None</td>\n",
       "      <td>NaN</td>\n",
       "      <td>58.826413</td>\n",
       "      <td>15.938500</td>\n",
       "      <td>None</td>\n",
       "      <td>962</td>\n",
       "      <td>9543</td>\n",
       "      <td>[5147734, -9035770]</td>\n",
       "      <td>2</td>\n",
       "      <td>2023-12</td>\n",
       "    </tr>\n",
       "    <tr>\n",
       "      <th>2</th>\n",
       "      <td>bostad</td>\n",
       "      <td>1706785</td>\n",
       "      <td>5168064</td>\n",
       "      <td>2023-12-05</td>\n",
       "      <td>8.0</td>\n",
       "      <td>Villa</td>\n",
       "      <td>Kronoparksvägen 22</td>\n",
       "      <td>None</td>\n",
       "      <td>Ivetofta</td>\n",
       "      <td>Bromölla</td>\n",
       "      <td>1980.0</td>\n",
       "      <td>2095000.0</td>\n",
       "      <td>2400000.0</td>\n",
       "      <td>Slutpris</td>\n",
       "      <td>2 095 000</td>\n",
       "      <td>None</td>\n",
       "      <td>NaN</td>\n",
       "      <td>2648.0</td>\n",
       "      <td>C</td>\n",
       "      <td>None</td>\n",
       "      <td>NaN</td>\n",
       "      <td>56.091915</td>\n",
       "      <td>14.466163</td>\n",
       "      <td>None</td>\n",
       "      <td>20</td>\n",
       "      <td>11931</td>\n",
       "      <td>[5168064, 984971, 350836]</td>\n",
       "      <td>3</td>\n",
       "      <td>2023-12</td>\n",
       "    </tr>\n",
       "    <tr>\n",
       "      <th>3</th>\n",
       "      <td>bostad</td>\n",
       "      <td>3997519</td>\n",
       "      <td>5078126</td>\n",
       "      <td>2023-12-05</td>\n",
       "      <td>102.0</td>\n",
       "      <td>Lägenhet</td>\n",
       "      <td>Borgarfjordsgatan 21B</td>\n",
       "      <td>1303</td>\n",
       "      <td>Kista</td>\n",
       "      <td>Stockholm</td>\n",
       "      <td>2015.0</td>\n",
       "      <td>2495000.0</td>\n",
       "      <td>2450000.0</td>\n",
       "      <td>Slutpris</td>\n",
       "      <td>2 595 000</td>\n",
       "      <td>None</td>\n",
       "      <td>4274.0</td>\n",
       "      <td>NaN</td>\n",
       "      <td>D</td>\n",
       "      <td>3</td>\n",
       "      <td>NaN</td>\n",
       "      <td>59.404946</td>\n",
       "      <td>17.941505</td>\n",
       "      <td>None</td>\n",
       "      <td>16</td>\n",
       "      <td>6529</td>\n",
       "      <td>[5078126]</td>\n",
       "      <td>1</td>\n",
       "      <td>2023-12</td>\n",
       "    </tr>\n",
       "    <tr>\n",
       "      <th>4</th>\n",
       "      <td>annons</td>\n",
       "      <td>5119460</td>\n",
       "      <td>5119460</td>\n",
       "      <td>2023-12-05</td>\n",
       "      <td>39.0</td>\n",
       "      <td>Lägenhet</td>\n",
       "      <td>Rålambsvägen 48</td>\n",
       "      <td>None</td>\n",
       "      <td>Fredhäll</td>\n",
       "      <td>Stockholm</td>\n",
       "      <td>1931.0</td>\n",
       "      <td>3400000.0</td>\n",
       "      <td>3400000.0</td>\n",
       "      <td>Slutpris</td>\n",
       "      <td>3 195 000</td>\n",
       "      <td>None</td>\n",
       "      <td>2213.0</td>\n",
       "      <td>855.0</td>\n",
       "      <td>None</td>\n",
       "      <td>3</td>\n",
       "      <td>NaN</td>\n",
       "      <td>59.330127</td>\n",
       "      <td>18.005056</td>\n",
       "      <td>None</td>\n",
       "      <td>34</td>\n",
       "      <td>9162</td>\n",
       "      <td>[5119460]</td>\n",
       "      <td>1</td>\n",
       "      <td>2023-12</td>\n",
       "    </tr>\n",
       "    <tr>\n",
       "      <th>...</th>\n",
       "      <td>...</td>\n",
       "      <td>...</td>\n",
       "      <td>...</td>\n",
       "      <td>...</td>\n",
       "      <td>...</td>\n",
       "      <td>...</td>\n",
       "      <td>...</td>\n",
       "      <td>...</td>\n",
       "      <td>...</td>\n",
       "      <td>...</td>\n",
       "      <td>...</td>\n",
       "      <td>...</td>\n",
       "      <td>...</td>\n",
       "      <td>...</td>\n",
       "      <td>...</td>\n",
       "      <td>...</td>\n",
       "      <td>...</td>\n",
       "      <td>...</td>\n",
       "      <td>...</td>\n",
       "      <td>...</td>\n",
       "      <td>...</td>\n",
       "      <td>...</td>\n",
       "      <td>...</td>\n",
       "      <td>...</td>\n",
       "      <td>...</td>\n",
       "      <td>...</td>\n",
       "      <td>...</td>\n",
       "      <td>...</td>\n",
       "      <td>...</td>\n",
       "    </tr>\n",
       "    <tr>\n",
       "      <th>309957</th>\n",
       "      <td>bostad</td>\n",
       "      <td>2407266</td>\n",
       "      <td>4818529</td>\n",
       "      <td>2023-06-01</td>\n",
       "      <td>133.0</td>\n",
       "      <td>Villa</td>\n",
       "      <td>Zacharias väg 14</td>\n",
       "      <td>None</td>\n",
       "      <td>Kulltorp</td>\n",
       "      <td>Kristianstad</td>\n",
       "      <td>1937.0</td>\n",
       "      <td>2695000.0</td>\n",
       "      <td>2630000.0</td>\n",
       "      <td>Lagfart</td>\n",
       "      <td>2 890 000</td>\n",
       "      <td>None</td>\n",
       "      <td>NaN</td>\n",
       "      <td>2373.0</td>\n",
       "      <td>G</td>\n",
       "      <td>None</td>\n",
       "      <td>NaN</td>\n",
       "      <td>56.052645</td>\n",
       "      <td>14.185546</td>\n",
       "      <td>None</td>\n",
       "      <td>1071</td>\n",
       "      <td>11246</td>\n",
       "      <td>[4818529, 4547164]</td>\n",
       "      <td>2</td>\n",
       "      <td>2023-06</td>\n",
       "    </tr>\n",
       "    <tr>\n",
       "      <th>310141</th>\n",
       "      <td>bostad</td>\n",
       "      <td>518000</td>\n",
       "      <td>4990861</td>\n",
       "      <td>2023-06-01</td>\n",
       "      <td>10.0</td>\n",
       "      <td>Lägenhet</td>\n",
       "      <td>Norra Liden 8</td>\n",
       "      <td>1501</td>\n",
       "      <td>Kungshöjd Och Inom Vallgraven</td>\n",
       "      <td>Göteborg</td>\n",
       "      <td>1947.0</td>\n",
       "      <td>5850000.0</td>\n",
       "      <td>5900000.0</td>\n",
       "      <td>Slutpris</td>\n",
       "      <td>5 850 000</td>\n",
       "      <td>None</td>\n",
       "      <td>4575.0</td>\n",
       "      <td>325.0</td>\n",
       "      <td>D</td>\n",
       "      <td>4</td>\n",
       "      <td>NaN</td>\n",
       "      <td>57.704597</td>\n",
       "      <td>11.958324</td>\n",
       "      <td>None</td>\n",
       "      <td>294</td>\n",
       "      <td>11605</td>\n",
       "      <td>[4990861, 4577769]</td>\n",
       "      <td>2</td>\n",
       "      <td>2023-06</td>\n",
       "    </tr>\n",
       "    <tr>\n",
       "      <th>310187</th>\n",
       "      <td>bostad</td>\n",
       "      <td>4010918</td>\n",
       "      <td>5111124</td>\n",
       "      <td>2023-12-05</td>\n",
       "      <td>32.0</td>\n",
       "      <td>Lägenhet</td>\n",
       "      <td>Råcksta Gårdsväg 28</td>\n",
       "      <td>1802</td>\n",
       "      <td>Vällingby Parkstad</td>\n",
       "      <td>Stockholm</td>\n",
       "      <td>2014.0</td>\n",
       "      <td>2495000.0</td>\n",
       "      <td>2650000.0</td>\n",
       "      <td>Slutpris</td>\n",
       "      <td>2 495 000</td>\n",
       "      <td>None</td>\n",
       "      <td>3583.0</td>\n",
       "      <td>375.0</td>\n",
       "      <td>B</td>\n",
       "      <td>8</td>\n",
       "      <td>NaN</td>\n",
       "      <td>59.355201</td>\n",
       "      <td>17.885914</td>\n",
       "      <td>None</td>\n",
       "      <td>32</td>\n",
       "      <td>10216</td>\n",
       "      <td>[5111124, 4581935]</td>\n",
       "      <td>2</td>\n",
       "      <td>2023-12</td>\n",
       "    </tr>\n",
       "    <tr>\n",
       "      <th>310450</th>\n",
       "      <td>bostad</td>\n",
       "      <td>441268</td>\n",
       "      <td>5107654</td>\n",
       "      <td>2023-12-14</td>\n",
       "      <td>61.0</td>\n",
       "      <td>Lägenhet</td>\n",
       "      <td>Karolinagatan 1</td>\n",
       "      <td>1101</td>\n",
       "      <td>Huvudsta</td>\n",
       "      <td>Solna</td>\n",
       "      <td>1951.0</td>\n",
       "      <td>4995000.0</td>\n",
       "      <td>5125000.0</td>\n",
       "      <td>Sista bud</td>\n",
       "      <td>5 395 000</td>\n",
       "      <td>None</td>\n",
       "      <td>5189.0</td>\n",
       "      <td>1146.0</td>\n",
       "      <td>G</td>\n",
       "      <td>None</td>\n",
       "      <td>NaN</td>\n",
       "      <td>59.352290</td>\n",
       "      <td>17.996105</td>\n",
       "      <td>None</td>\n",
       "      <td>12</td>\n",
       "      <td>13693</td>\n",
       "      <td>[5107654, 4570371]</td>\n",
       "      <td>2</td>\n",
       "      <td>2023-12</td>\n",
       "    </tr>\n",
       "    <tr>\n",
       "      <th>316204</th>\n",
       "      <td>bostad</td>\n",
       "      <td>201918</td>\n",
       "      <td>5071291</td>\n",
       "      <td>2023-11-30</td>\n",
       "      <td>104.0</td>\n",
       "      <td>Lägenhet</td>\n",
       "      <td>Bryggaregatan 13</td>\n",
       "      <td>1203</td>\n",
       "      <td>Klara</td>\n",
       "      <td>Karlstad</td>\n",
       "      <td>1930.0</td>\n",
       "      <td>1595000.0</td>\n",
       "      <td>1600000.0</td>\n",
       "      <td>Slutpris</td>\n",
       "      <td>1 595 000</td>\n",
       "      <td>None</td>\n",
       "      <td>4092.0</td>\n",
       "      <td>398.0</td>\n",
       "      <td>E</td>\n",
       "      <td>2</td>\n",
       "      <td>NaN</td>\n",
       "      <td>59.383724</td>\n",
       "      <td>13.493711</td>\n",
       "      <td>None</td>\n",
       "      <td>10</td>\n",
       "      <td>11563</td>\n",
       "      <td>[5071291, 4571864]</td>\n",
       "      <td>2</td>\n",
       "      <td>2023-11</td>\n",
       "    </tr>\n",
       "  </tbody>\n",
       "</table>\n",
       "<p>169388 rows × 29 columns</p>\n",
       "</div>"
      ],
      "text/plain": [
       "       url_listing_type  url_listing_id booli_id   sold_date  days_listed  \\\n",
       "0                bostad         2556516  5153109  2023-12-05         25.0   \n",
       "1                bostad         1890105  5147734  2023-12-05         32.0   \n",
       "2                bostad         1706785  5168064  2023-12-05          8.0   \n",
       "3                bostad         3997519  5078126  2023-12-05        102.0   \n",
       "4                annons         5119460  5119460  2023-12-05         39.0   \n",
       "...                 ...             ...      ...         ...          ...   \n",
       "309957           bostad         2407266  4818529  2023-06-01        133.0   \n",
       "310141           bostad          518000  4990861  2023-06-01         10.0   \n",
       "310187           bostad         4010918  5111124  2023-12-05         32.0   \n",
       "310450           bostad          441268  5107654  2023-12-14         61.0   \n",
       "316204           bostad          201918  5071291  2023-11-30        104.0   \n",
       "\n",
       "       residence_type                address apartment_number  \\\n",
       "0               Villa        Västerbyvägen 9             None   \n",
       "1               Villa         Sliparevägen 3             None   \n",
       "2               Villa     Kronoparksvägen 22             None   \n",
       "3            Lägenhet  Borgarfjordsgatan 21B             1303   \n",
       "4            Lägenhet        Rålambsvägen 48             None   \n",
       "...               ...                    ...              ...   \n",
       "309957          Villa       Zacharias väg 14             None   \n",
       "310141       Lägenhet          Norra Liden 8             1501   \n",
       "310187       Lägenhet    Råcksta Gårdsväg 28             1802   \n",
       "310450       Lägenhet        Karolinagatan 1             1101   \n",
       "316204       Lägenhet       Bryggaregatan 13             1203   \n",
       "\n",
       "                           urban_area  municipality  construction_year  \\\n",
       "0                            Norsholm    Norrköping             1979.0   \n",
       "1                             Rejmyre      Finspång             1978.0   \n",
       "2                            Ivetofta      Bromölla             1980.0   \n",
       "3                               Kista     Stockholm             2015.0   \n",
       "4                            Fredhäll     Stockholm             1931.0   \n",
       "...                               ...           ...                ...   \n",
       "309957                       Kulltorp  Kristianstad             1937.0   \n",
       "310141  Kungshöjd Och Inom Vallgraven      Göteborg             1947.0   \n",
       "310187             Vällingby Parkstad     Stockholm             2014.0   \n",
       "310450                       Huvudsta         Solna             1951.0   \n",
       "316204                          Klara      Karlstad             1930.0   \n",
       "\n",
       "        list_price  sold_price sold_price_type first_price monthly_payment  \\\n",
       "0        3325000.0   3250000.0        Slutpris   3 325 000            None   \n",
       "1        1495000.0   1495000.0        Slutpris   1 495 000            None   \n",
       "2        2095000.0   2400000.0        Slutpris   2 095 000            None   \n",
       "3        2495000.0   2450000.0        Slutpris   2 595 000            None   \n",
       "4        3400000.0   3400000.0        Slutpris   3 195 000            None   \n",
       "...            ...         ...             ...         ...             ...   \n",
       "309957   2695000.0   2630000.0         Lagfart   2 890 000            None   \n",
       "310141   5850000.0   5900000.0        Slutpris   5 850 000            None   \n",
       "310187   2495000.0   2650000.0        Slutpris   2 495 000            None   \n",
       "310450   4995000.0   5125000.0       Sista bud   5 395 000            None   \n",
       "316204   1595000.0   1600000.0        Slutpris   1 595 000            None   \n",
       "\n",
       "          rent  operating_cost energy_class floor  building_floors   latitude  \\\n",
       "0          NaN          4398.0            D  None              NaN  58.505988   \n",
       "1          NaN          4102.0            C  None              NaN  58.826413   \n",
       "2          NaN          2648.0            C  None              NaN  56.091915   \n",
       "3       4274.0             NaN            D     3              NaN  59.404946   \n",
       "4       2213.0           855.0         None     3              NaN  59.330127   \n",
       "...        ...             ...          ...   ...              ...        ...   \n",
       "309957     NaN          2373.0            G  None              NaN  56.052645   \n",
       "310141  4575.0           325.0            D     4              NaN  57.704597   \n",
       "310187  3583.0           375.0            B     8              NaN  59.355201   \n",
       "310450  5189.0          1146.0            G  None              NaN  59.352290   \n",
       "316204  4092.0           398.0            E     2              NaN  59.383724   \n",
       "\n",
       "        longitude has_solar_panels agency_id agent_id  \\\n",
       "0       15.976788             None        26    11016   \n",
       "1       15.938500             None       962     9543   \n",
       "2       14.466163             None        20    11931   \n",
       "3       17.941505             None        16     6529   \n",
       "4       18.005056             None        34     9162   \n",
       "...           ...              ...       ...      ...   \n",
       "309957  14.185546             None      1071    11246   \n",
       "310141  11.958324             None       294    11605   \n",
       "310187  17.885914             None        32    10216   \n",
       "310450  17.996105             None        12    13693   \n",
       "316204  13.493711             None        10    11563   \n",
       "\n",
       "       booli_ids_of_previous_sales  n_previous_sales sold_YYYY_MM  \n",
       "0                        [5153109]                 1      2023-12  \n",
       "1              [5147734, -9035770]                 2      2023-12  \n",
       "2        [5168064, 984971, 350836]                 3      2023-12  \n",
       "3                        [5078126]                 1      2023-12  \n",
       "4                        [5119460]                 1      2023-12  \n",
       "...                            ...               ...          ...  \n",
       "309957          [4818529, 4547164]                 2      2023-06  \n",
       "310141          [4990861, 4577769]                 2      2023-06  \n",
       "310187          [5111124, 4581935]                 2      2023-12  \n",
       "310450          [5107654, 4570371]                 2      2023-12  \n",
       "316204          [5071291, 4571864]                 2      2023-11  \n",
       "\n",
       "[169388 rows x 29 columns]"
      ]
     },
     "execution_count": 4,
     "metadata": {},
     "output_type": "execute_result"
    }
   ],
   "source": [
    "viable_listings[\"sold_YYYY_MM\"] = [date[:-3] for date in viable_listings[\"sold_date\"]]\n",
    "\n",
    "viable_listings"
   ]
  }
 ],
 "metadata": {
  "kernelspec": {
   "display_name": ".venv",
   "language": "python",
   "name": "python3"
  },
  "language_info": {
   "codemirror_mode": {
    "name": "ipython",
    "version": 3
   },
   "file_extension": ".py",
   "mimetype": "text/x-python",
   "name": "python",
   "nbconvert_exporter": "python",
   "pygments_lexer": "ipython3",
   "version": "3.10.10 (main, Jul 15 2023, 18:53:08) [Clang 14.0.0 (clang-1400.0.29.202)]"
  },
  "orig_nbformat": 4,
  "vscode": {
   "interpreter": {
    "hash": "e33bb7b2cc010271644b84a13393be6366e525871ad6044d36d413a1c22c2e2a"
   }
  }
 },
 "nbformat": 4,
 "nbformat_minor": 2
}
